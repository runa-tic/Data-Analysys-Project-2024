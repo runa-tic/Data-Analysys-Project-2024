{
 "cells": [
  {
   "cell_type": "markdown",
   "id": "8c317397",
   "metadata": {},
   "source": [
    "## Предварительная обрабока полученного датасета"
   ]
  },
  {
   "cell_type": "code",
   "execution_count": 1,
   "id": "cfc78893",
   "metadata": {},
   "outputs": [],
   "source": [
    "import numpy as np\n",
    "import pandas as pd\n",
    "\n",
    "import scipy.stats as sts\n",
    "import matplotlib.pyplot as plt\n",
    "import seaborn as sns\n",
    "import pylab\n",
    "from sklearn.model_selection import train_test_split, GridSearchCV\n",
    "from sklearn.metrics import mean_absolute_percentage_error\n",
    "from sklearn.linear_model import Ridge, LinearRegression\n",
    "from sklearn.preprocessing import MinMaxScaler"
   ]
  },
  {
   "cell_type": "code",
   "execution_count": 2,
   "id": "1f968eb6",
   "metadata": {
    "scrolled": false
   },
   "outputs": [
    {
     "data": {
      "text/html": [
       "<div>\n",
       "<style scoped>\n",
       "    .dataframe tbody tr th:only-of-type {\n",
       "        vertical-align: middle;\n",
       "    }\n",
       "\n",
       "    .dataframe tbody tr th {\n",
       "        vertical-align: top;\n",
       "    }\n",
       "\n",
       "    .dataframe thead th {\n",
       "        text-align: right;\n",
       "    }\n",
       "</style>\n",
       "<table border=\"1\" class=\"dataframe\">\n",
       "  <thead>\n",
       "    <tr style=\"text-align: right;\">\n",
       "      <th></th>\n",
       "      <th>Link</th>\n",
       "      <th>Price</th>\n",
       "      <th>Price per m2</th>\n",
       "      <th>Square</th>\n",
       "      <th>Floor</th>\n",
       "      <th>Floors</th>\n",
       "      <th>Rooms</th>\n",
       "      <th>Is Apartment?</th>\n",
       "      <th>Year</th>\n",
       "      <th>Time to metro</th>\n",
       "      <th>Okrug</th>\n",
       "      <th>District</th>\n",
       "    </tr>\n",
       "  </thead>\n",
       "  <tbody>\n",
       "    <tr>\n",
       "      <th>0</th>\n",
       "      <td>https://www.cian.ru/sale/flat/301800762/</td>\n",
       "      <td>11000000</td>\n",
       "      <td>297297.0</td>\n",
       "      <td>37</td>\n",
       "      <td>5</td>\n",
       "      <td>19</td>\n",
       "      <td>1</td>\n",
       "      <td>False</td>\n",
       "      <td>2017</td>\n",
       "      <td>18</td>\n",
       "      <td>НАО (Новомосковский)</td>\n",
       "      <td>Внуковское поселение</td>\n",
       "    </tr>\n",
       "    <tr>\n",
       "      <th>1</th>\n",
       "      <td>https://www.cian.ru/sale/flat/301799226/</td>\n",
       "      <td>8990000</td>\n",
       "      <td>281818.0</td>\n",
       "      <td>31.9</td>\n",
       "      <td>24</td>\n",
       "      <td>25</td>\n",
       "      <td>0</td>\n",
       "      <td>True</td>\n",
       "      <td>2017</td>\n",
       "      <td>7</td>\n",
       "      <td>НАО (Новомосковский)</td>\n",
       "      <td>Московский</td>\n",
       "    </tr>\n",
       "    <tr>\n",
       "      <th>2</th>\n",
       "      <td>https://www.cian.ru/sale/flat/301797595/</td>\n",
       "      <td>10700000</td>\n",
       "      <td>382143.0</td>\n",
       "      <td>28</td>\n",
       "      <td>11</td>\n",
       "      <td>23</td>\n",
       "      <td>0</td>\n",
       "      <td>True</td>\n",
       "      <td>2021</td>\n",
       "      <td>2</td>\n",
       "      <td>НАО (Новомосковский)</td>\n",
       "      <td>Внуковское поселение</td>\n",
       "    </tr>\n",
       "    <tr>\n",
       "      <th>3</th>\n",
       "      <td>https://www.cian.ru/sale/flat/301796820/</td>\n",
       "      <td>12550181</td>\n",
       "      <td>299527.0</td>\n",
       "      <td>41.9</td>\n",
       "      <td>11</td>\n",
       "      <td>16</td>\n",
       "      <td>2</td>\n",
       "      <td>False</td>\n",
       "      <td>2024</td>\n",
       "      <td>9</td>\n",
       "      <td>НАО (Новомосковский)</td>\n",
       "      <td>Сосенское поселение</td>\n",
       "    </tr>\n",
       "    <tr>\n",
       "      <th>4</th>\n",
       "      <td>https://www.cian.ru/sale/flat/301796803/</td>\n",
       "      <td>4985475</td>\n",
       "      <td>353580.0</td>\n",
       "      <td>14.1</td>\n",
       "      <td>7</td>\n",
       "      <td>16</td>\n",
       "      <td>0</td>\n",
       "      <td>True</td>\n",
       "      <td>2026</td>\n",
       "      <td>23</td>\n",
       "      <td>НАО (Новомосковский)</td>\n",
       "      <td>Сосенское поселение</td>\n",
       "    </tr>\n",
       "    <tr>\n",
       "      <th>...</th>\n",
       "      <td>...</td>\n",
       "      <td>...</td>\n",
       "      <td>...</td>\n",
       "      <td>...</td>\n",
       "      <td>...</td>\n",
       "      <td>...</td>\n",
       "      <td>...</td>\n",
       "      <td>...</td>\n",
       "      <td>...</td>\n",
       "      <td>...</td>\n",
       "      <td>...</td>\n",
       "      <td>...</td>\n",
       "    </tr>\n",
       "    <tr>\n",
       "      <th>7773</th>\n",
       "      <td>https://www.cian.ru/sale/flat/300797316/</td>\n",
       "      <td>10300000</td>\n",
       "      <td>268229.0</td>\n",
       "      <td>38.4</td>\n",
       "      <td>13</td>\n",
       "      <td>25</td>\n",
       "      <td>1</td>\n",
       "      <td>False</td>\n",
       "      <td>2017</td>\n",
       "      <td>9</td>\n",
       "      <td>ЮВАО</td>\n",
       "      <td>р-н Некрасовка</td>\n",
       "    </tr>\n",
       "    <tr>\n",
       "      <th>7774</th>\n",
       "      <td>https://www.cian.ru/sale/flat/301074964/</td>\n",
       "      <td>11500000</td>\n",
       "      <td>378289.0</td>\n",
       "      <td>30.4</td>\n",
       "      <td>8</td>\n",
       "      <td>9</td>\n",
       "      <td>1</td>\n",
       "      <td>False</td>\n",
       "      <td>1972</td>\n",
       "      <td>14</td>\n",
       "      <td>ЮВАО</td>\n",
       "      <td>р-н Текстильщики</td>\n",
       "    </tr>\n",
       "    <tr>\n",
       "      <th>7775</th>\n",
       "      <td>https://www.cian.ru/sale/flat/301035853/</td>\n",
       "      <td>10600000</td>\n",
       "      <td>327160.0</td>\n",
       "      <td>32.4</td>\n",
       "      <td>6</td>\n",
       "      <td>9</td>\n",
       "      <td>1</td>\n",
       "      <td>False</td>\n",
       "      <td>1970</td>\n",
       "      <td>5</td>\n",
       "      <td>ЮВАО</td>\n",
       "      <td>р-н Печатники</td>\n",
       "    </tr>\n",
       "    <tr>\n",
       "      <th>7776</th>\n",
       "      <td>https://www.cian.ru/sale/flat/296104063/</td>\n",
       "      <td>9530456</td>\n",
       "      <td>238859.0</td>\n",
       "      <td>39.9</td>\n",
       "      <td>5</td>\n",
       "      <td>26</td>\n",
       "      <td>1</td>\n",
       "      <td>False</td>\n",
       "      <td>2022</td>\n",
       "      <td>14</td>\n",
       "      <td>ЮВАО</td>\n",
       "      <td>р-н Некрасовка</td>\n",
       "    </tr>\n",
       "    <tr>\n",
       "      <th>7777</th>\n",
       "      <td>https://www.cian.ru/sale/flat/293245389/</td>\n",
       "      <td>11200000</td>\n",
       "      <td>207407.0</td>\n",
       "      <td>54</td>\n",
       "      <td>11</td>\n",
       "      <td>17</td>\n",
       "      <td>2</td>\n",
       "      <td>False</td>\n",
       "      <td>2010</td>\n",
       "      <td>9</td>\n",
       "      <td>ЮВАО</td>\n",
       "      <td>р-н Некрасовка</td>\n",
       "    </tr>\n",
       "  </tbody>\n",
       "</table>\n",
       "<p>7778 rows × 12 columns</p>\n",
       "</div>"
      ],
      "text/plain": [
       "                                          Link     Price  Price per m2 Square  \\\n",
       "0     https://www.cian.ru/sale/flat/301800762/  11000000      297297.0     37   \n",
       "1     https://www.cian.ru/sale/flat/301799226/   8990000      281818.0   31.9   \n",
       "2     https://www.cian.ru/sale/flat/301797595/  10700000      382143.0     28   \n",
       "3     https://www.cian.ru/sale/flat/301796820/  12550181      299527.0   41.9   \n",
       "4     https://www.cian.ru/sale/flat/301796803/   4985475      353580.0   14.1   \n",
       "...                                        ...       ...           ...    ...   \n",
       "7773  https://www.cian.ru/sale/flat/300797316/  10300000      268229.0   38.4   \n",
       "7774  https://www.cian.ru/sale/flat/301074964/  11500000      378289.0   30.4   \n",
       "7775  https://www.cian.ru/sale/flat/301035853/  10600000      327160.0   32.4   \n",
       "7776  https://www.cian.ru/sale/flat/296104063/   9530456      238859.0   39.9   \n",
       "7777  https://www.cian.ru/sale/flat/293245389/  11200000      207407.0     54   \n",
       "\n",
       "     Floor Floors  Rooms  Is Apartment?  Year Time to metro  \\\n",
       "0        5     19      1          False  2017            18   \n",
       "1       24     25      0           True  2017             7   \n",
       "2       11     23      0           True  2021             2   \n",
       "3       11     16      2          False  2024             9   \n",
       "4        7     16      0           True  2026            23   \n",
       "...    ...    ...    ...            ...   ...           ...   \n",
       "7773    13     25      1          False  2017             9   \n",
       "7774     8      9      1          False  1972            14   \n",
       "7775     6      9      1          False  1970             5   \n",
       "7776     5     26      1          False  2022            14   \n",
       "7777    11     17      2          False  2010             9   \n",
       "\n",
       "                     Okrug              District  \n",
       "0     НАО (Новомосковский)  Внуковское поселение  \n",
       "1     НАО (Новомосковский)            Московский  \n",
       "2     НАО (Новомосковский)  Внуковское поселение  \n",
       "3     НАО (Новомосковский)   Сосенское поселение  \n",
       "4     НАО (Новомосковский)   Сосенское поселение  \n",
       "...                    ...                   ...  \n",
       "7773                  ЮВАО        р-н Некрасовка  \n",
       "7774                  ЮВАО      р-н Текстильщики  \n",
       "7775                  ЮВАО         р-н Печатники  \n",
       "7776                  ЮВАО        р-н Некрасовка  \n",
       "7777                  ЮВАО        р-н Некрасовка  \n",
       "\n",
       "[7778 rows x 12 columns]"
      ]
     },
     "execution_count": 2,
     "metadata": {},
     "output_type": "execute_result"
    }
   ],
   "source": [
    "df = pd.read_csv('https://raw.githubusercontent.com/runa-tic/Data-Analysys-Project-2024/main/cian_offers.csv', encoding=\"cp1251\")\n",
    "df"
   ]
  },
  {
   "cell_type": "markdown",
   "id": "5efa971d",
   "metadata": {},
   "source": [
    "__Получен датасет, содержащий 7778 наблюдений и 12 признаков, по продаже квартир в Москве__\n",
    "\n",
    "Проведем проверку на дубликаты:\n"
   ]
  },
  {
   "cell_type": "code",
   "execution_count": 3,
   "id": "5ccc6fe0",
   "metadata": {},
   "outputs": [
    {
     "data": {
      "text/plain": [
       "465"
      ]
     },
     "execution_count": 3,
     "metadata": {},
     "output_type": "execute_result"
    }
   ],
   "source": [
    "df.duplicated().sum()"
   ]
  },
  {
   "cell_type": "markdown",
   "id": "1f703263",
   "metadata": {},
   "source": [
    "Удалим дубликаты и сохраним первое наблюдение:"
   ]
  },
  {
   "cell_type": "code",
   "execution_count": 4,
   "id": "a34c2842",
   "metadata": {},
   "outputs": [
    {
     "data": {
      "text/plain": [
       "(7313, 12)"
      ]
     },
     "execution_count": 4,
     "metadata": {},
     "output_type": "execute_result"
    }
   ],
   "source": [
    "df = df.drop_duplicates(keep = 'first')\n",
    "df.shape"
   ]
  },
  {
   "cell_type": "markdown",
   "id": "0885be4d",
   "metadata": {},
   "source": [
    "Теперь смотрим на полученный датасет в разрезе переменных, их типов, пропусков:"
   ]
  },
  {
   "cell_type": "code",
   "execution_count": 5,
   "id": "6bfe5eaa",
   "metadata": {},
   "outputs": [
    {
     "name": "stdout",
     "output_type": "stream",
     "text": [
      "<class 'pandas.core.frame.DataFrame'>\n",
      "Int64Index: 7313 entries, 0 to 7777\n",
      "Data columns (total 12 columns):\n",
      " #   Column         Non-Null Count  Dtype  \n",
      "---  ------         --------------  -----  \n",
      " 0   Link           7313 non-null   object \n",
      " 1   Price          7313 non-null   int64  \n",
      " 2   Price per m2   7297 non-null   float64\n",
      " 3   Square         7313 non-null   object \n",
      " 4   Floor          7313 non-null   object \n",
      " 5   Floors         7313 non-null   object \n",
      " 6   Rooms          7313 non-null   int64  \n",
      " 7   Is Apartment?  7313 non-null   bool   \n",
      " 8   Year           7313 non-null   int64  \n",
      " 9   Time to metro  7313 non-null   object \n",
      " 10  Okrug          7313 non-null   object \n",
      " 11  District       7313 non-null   object \n",
      "dtypes: bool(1), float64(1), int64(3), object(7)\n",
      "memory usage: 692.7+ KB\n"
     ]
    }
   ],
   "source": [
    "df.info()"
   ]
  },
  {
   "cell_type": "markdown",
   "id": "8fbb91cc",
   "metadata": {},
   "source": [
    "Видим, что у некоторых числовых переменных dtype - object, следовательно меняем типы переменных:"
   ]
  },
  {
   "cell_type": "code",
   "execution_count": 6,
   "id": "0e7a01c6",
   "metadata": {
    "scrolled": true
   },
   "outputs": [
    {
     "name": "stderr",
     "output_type": "stream",
     "text": [
      "C:\\Users\\User\\AppData\\Local\\Temp\\ipykernel_1836\\2016949978.py:1: SettingWithCopyWarning: \n",
      "A value is trying to be set on a copy of a slice from a DataFrame.\n",
      "Try using .loc[row_indexer,col_indexer] = value instead\n",
      "\n",
      "See the caveats in the documentation: https://pandas.pydata.org/pandas-docs/stable/user_guide/indexing.html#returning-a-view-versus-a-copy\n",
      "  df['Square'] = pd.to_numeric(df['Square'], errors='coerce').astype(float)\n",
      "C:\\Users\\User\\AppData\\Local\\Temp\\ipykernel_1836\\2016949978.py:2: SettingWithCopyWarning: \n",
      "A value is trying to be set on a copy of a slice from a DataFrame.\n",
      "Try using .loc[row_indexer,col_indexer] = value instead\n",
      "\n",
      "See the caveats in the documentation: https://pandas.pydata.org/pandas-docs/stable/user_guide/indexing.html#returning-a-view-versus-a-copy\n",
      "  df['Floor'] = pd.to_numeric(df['Floor'], errors='coerce').astype('Int64')\n",
      "C:\\Users\\User\\AppData\\Local\\Temp\\ipykernel_1836\\2016949978.py:3: SettingWithCopyWarning: \n",
      "A value is trying to be set on a copy of a slice from a DataFrame.\n",
      "Try using .loc[row_indexer,col_indexer] = value instead\n",
      "\n",
      "See the caveats in the documentation: https://pandas.pydata.org/pandas-docs/stable/user_guide/indexing.html#returning-a-view-versus-a-copy\n",
      "  df['Floors'] = pd.to_numeric(df['Floors'], errors='coerce').astype('Int64')\n",
      "C:\\Users\\User\\AppData\\Local\\Temp\\ipykernel_1836\\2016949978.py:4: SettingWithCopyWarning: \n",
      "A value is trying to be set on a copy of a slice from a DataFrame.\n",
      "Try using .loc[row_indexer,col_indexer] = value instead\n",
      "\n",
      "See the caveats in the documentation: https://pandas.pydata.org/pandas-docs/stable/user_guide/indexing.html#returning-a-view-versus-a-copy\n",
      "  df['Time to metro'] = pd.to_numeric(df['Time to metro'], errors='coerce').astype('Int64')\n"
     ]
    }
   ],
   "source": [
    "df['Square'] = pd.to_numeric(df['Square'], errors='coerce').astype(float)\n",
    "df['Floor'] = pd.to_numeric(df['Floor'], errors='coerce').astype('Int64')  \n",
    "df['Floors'] = pd.to_numeric(df['Floors'], errors='coerce').astype('Int64') \n",
    "df['Time to metro'] = pd.to_numeric(df['Time to metro'], errors='coerce').astype('Int64') \n",
    "df = df.dropna()"
   ]
  },
  {
   "cell_type": "code",
   "execution_count": 7,
   "id": "8a89d113",
   "metadata": {},
   "outputs": [
    {
     "name": "stdout",
     "output_type": "stream",
     "text": [
      "<class 'pandas.core.frame.DataFrame'>\n",
      "Int64Index: 7156 entries, 0 to 7777\n",
      "Data columns (total 12 columns):\n",
      " #   Column         Non-Null Count  Dtype  \n",
      "---  ------         --------------  -----  \n",
      " 0   Link           7156 non-null   object \n",
      " 1   Price          7156 non-null   int64  \n",
      " 2   Price per m2   7156 non-null   float64\n",
      " 3   Square         7156 non-null   float64\n",
      " 4   Floor          7156 non-null   Int64  \n",
      " 5   Floors         7156 non-null   Int64  \n",
      " 6   Rooms          7156 non-null   int64  \n",
      " 7   Is Apartment?  7156 non-null   bool   \n",
      " 8   Year           7156 non-null   int64  \n",
      " 9   Time to metro  7156 non-null   Int64  \n",
      " 10  Okrug          7156 non-null   object \n",
      " 11  District       7156 non-null   object \n",
      "dtypes: Int64(3), bool(1), float64(2), int64(3), object(3)\n",
      "memory usage: 698.8+ KB\n"
     ]
    }
   ],
   "source": [
    "df.info()"
   ]
  },
  {
   "cell_type": "markdown",
   "id": "41427aae",
   "metadata": {},
   "source": [
    "Удалили строчки с столбцами, в которых не получилось конвертировать данные в нужный тип, либо с пропущенными значениями, таких наблюдений оказалось немного и на итоговый датасет это не влияет."
   ]
  },
  {
   "cell_type": "markdown",
   "id": "5df07b6d",
   "metadata": {},
   "source": [
    "__Описание полученных итого переменных:__\n",
    "* `Link` - ссылка на объявление о продаже\n",
    "\n",
    "* `Price` - цена продажи\n",
    "\n",
    "* `Price per m2` - цена за квадратный метр\n",
    "\n",
    "* `Square` - площадь квартиры в квадратных метрах\n",
    "\n",
    "* `Floor` - этаж квартиры\n",
    "\n",
    "* `Floors` - всего этажей в доме\n",
    "\n",
    "* `Rooms` - комнат в квартире\n",
    "\n",
    "* `Is Apartment?` - является ли квартира апартаментами\n",
    "\n",
    "* `Year` - год постройки дома\n",
    "\n",
    "* `Time to metro` - время до метро (в минутах)\n",
    "\n",
    "* `Okrug` - округ\n",
    "\n",
    "* `District` - район"
   ]
  },
  {
   "cell_type": "markdown",
   "id": "9ed7b48b",
   "metadata": {},
   "source": [
    "Посмотрим еще раз на данные, которые лежат в столбцах:"
   ]
  },
  {
   "cell_type": "code",
   "execution_count": 8,
   "id": "3aa6ad47",
   "metadata": {},
   "outputs": [
    {
     "data": {
      "text/html": [
       "<div>\n",
       "<style scoped>\n",
       "    .dataframe tbody tr th:only-of-type {\n",
       "        vertical-align: middle;\n",
       "    }\n",
       "\n",
       "    .dataframe tbody tr th {\n",
       "        vertical-align: top;\n",
       "    }\n",
       "\n",
       "    .dataframe thead th {\n",
       "        text-align: right;\n",
       "    }\n",
       "</style>\n",
       "<table border=\"1\" class=\"dataframe\">\n",
       "  <thead>\n",
       "    <tr style=\"text-align: right;\">\n",
       "      <th></th>\n",
       "      <th>Price</th>\n",
       "      <th>Price per m2</th>\n",
       "      <th>Square</th>\n",
       "      <th>Floor</th>\n",
       "      <th>Floors</th>\n",
       "      <th>Rooms</th>\n",
       "      <th>Year</th>\n",
       "      <th>Time to metro</th>\n",
       "    </tr>\n",
       "  </thead>\n",
       "  <tbody>\n",
       "    <tr>\n",
       "      <th>count</th>\n",
       "      <td>7.156000e+03</td>\n",
       "      <td>7.156000e+03</td>\n",
       "      <td>7156.000000</td>\n",
       "      <td>7156.000000</td>\n",
       "      <td>7156.000000</td>\n",
       "      <td>7156.000000</td>\n",
       "      <td>7156.000000</td>\n",
       "      <td>7156.000000</td>\n",
       "    </tr>\n",
       "    <tr>\n",
       "      <th>mean</th>\n",
       "      <td>2.922736e+07</td>\n",
       "      <td>3.997628e+05</td>\n",
       "      <td>60.382788</td>\n",
       "      <td>8.692566</td>\n",
       "      <td>16.775713</td>\n",
       "      <td>1.940470</td>\n",
       "      <td>1998.889184</td>\n",
       "      <td>10.643097</td>\n",
       "    </tr>\n",
       "    <tr>\n",
       "      <th>std</th>\n",
       "      <td>5.382703e+07</td>\n",
       "      <td>2.608955e+05</td>\n",
       "      <td>39.690360</td>\n",
       "      <td>7.642809</td>\n",
       "      <td>11.414930</td>\n",
       "      <td>1.098798</td>\n",
       "      <td>26.385666</td>\n",
       "      <td>5.666290</td>\n",
       "    </tr>\n",
       "    <tr>\n",
       "      <th>min</th>\n",
       "      <td>1.300000e+06</td>\n",
       "      <td>2.824100e+04</td>\n",
       "      <td>9.100000</td>\n",
       "      <td>1.000000</td>\n",
       "      <td>1.000000</td>\n",
       "      <td>0.000000</td>\n",
       "      <td>1820.000000</td>\n",
       "      <td>1.000000</td>\n",
       "    </tr>\n",
       "    <tr>\n",
       "      <th>25%</th>\n",
       "      <td>1.130000e+07</td>\n",
       "      <td>2.638512e+05</td>\n",
       "      <td>38.000000</td>\n",
       "      <td>3.000000</td>\n",
       "      <td>9.000000</td>\n",
       "      <td>1.000000</td>\n",
       "      <td>1974.000000</td>\n",
       "      <td>6.000000</td>\n",
       "    </tr>\n",
       "    <tr>\n",
       "      <th>50%</th>\n",
       "      <td>1.536000e+07</td>\n",
       "      <td>3.251890e+05</td>\n",
       "      <td>50.700000</td>\n",
       "      <td>7.000000</td>\n",
       "      <td>14.000000</td>\n",
       "      <td>2.000000</td>\n",
       "      <td>2010.000000</td>\n",
       "      <td>10.000000</td>\n",
       "    </tr>\n",
       "    <tr>\n",
       "      <th>75%</th>\n",
       "      <td>2.500000e+07</td>\n",
       "      <td>4.373418e+05</td>\n",
       "      <td>70.000000</td>\n",
       "      <td>12.000000</td>\n",
       "      <td>22.000000</td>\n",
       "      <td>3.000000</td>\n",
       "      <td>2022.000000</td>\n",
       "      <td>15.000000</td>\n",
       "    </tr>\n",
       "    <tr>\n",
       "      <th>max</th>\n",
       "      <td>1.375000e+09</td>\n",
       "      <td>3.676369e+06</td>\n",
       "      <td>779.000000</td>\n",
       "      <td>69.000000</td>\n",
       "      <td>191.000000</td>\n",
       "      <td>5.000000</td>\n",
       "      <td>2028.000000</td>\n",
       "      <td>90.000000</td>\n",
       "    </tr>\n",
       "  </tbody>\n",
       "</table>\n",
       "</div>"
      ],
      "text/plain": [
       "              Price  Price per m2       Square        Floor       Floors  \\\n",
       "count  7.156000e+03  7.156000e+03  7156.000000  7156.000000  7156.000000   \n",
       "mean   2.922736e+07  3.997628e+05    60.382788     8.692566    16.775713   \n",
       "std    5.382703e+07  2.608955e+05    39.690360     7.642809    11.414930   \n",
       "min    1.300000e+06  2.824100e+04     9.100000     1.000000     1.000000   \n",
       "25%    1.130000e+07  2.638512e+05    38.000000     3.000000     9.000000   \n",
       "50%    1.536000e+07  3.251890e+05    50.700000     7.000000    14.000000   \n",
       "75%    2.500000e+07  4.373418e+05    70.000000    12.000000    22.000000   \n",
       "max    1.375000e+09  3.676369e+06   779.000000    69.000000   191.000000   \n",
       "\n",
       "             Rooms         Year  Time to metro  \n",
       "count  7156.000000  7156.000000    7156.000000  \n",
       "mean      1.940470  1998.889184      10.643097  \n",
       "std       1.098798    26.385666       5.666290  \n",
       "min       0.000000  1820.000000       1.000000  \n",
       "25%       1.000000  1974.000000       6.000000  \n",
       "50%       2.000000  2010.000000      10.000000  \n",
       "75%       3.000000  2022.000000      15.000000  \n",
       "max       5.000000  2028.000000      90.000000  "
      ]
     },
     "execution_count": 8,
     "metadata": {},
     "output_type": "execute_result"
    }
   ],
   "source": [
    "df.describe()"
   ]
  },
  {
   "cell_type": "markdown",
   "id": "1d90e368",
   "metadata": {},
   "source": [
    "В числовых признаках не видим аномалий, следовательно, датасет готов к дальнейшему анализу, дропнем индексы перед следующим разделом, тк предыдущие преобразования были связаны с удалением строк:"
   ]
  },
  {
   "cell_type": "code",
   "execution_count": 9,
   "id": "f437ab97",
   "metadata": {
    "scrolled": false
   },
   "outputs": [
    {
     "data": {
      "text/html": [
       "<div>\n",
       "<style scoped>\n",
       "    .dataframe tbody tr th:only-of-type {\n",
       "        vertical-align: middle;\n",
       "    }\n",
       "\n",
       "    .dataframe tbody tr th {\n",
       "        vertical-align: top;\n",
       "    }\n",
       "\n",
       "    .dataframe thead th {\n",
       "        text-align: right;\n",
       "    }\n",
       "</style>\n",
       "<table border=\"1\" class=\"dataframe\">\n",
       "  <thead>\n",
       "    <tr style=\"text-align: right;\">\n",
       "      <th></th>\n",
       "      <th>Link</th>\n",
       "      <th>Price</th>\n",
       "      <th>Price per m2</th>\n",
       "      <th>Square</th>\n",
       "      <th>Floor</th>\n",
       "      <th>Floors</th>\n",
       "      <th>Rooms</th>\n",
       "      <th>Is Apartment?</th>\n",
       "      <th>Year</th>\n",
       "      <th>Time to metro</th>\n",
       "      <th>Okrug</th>\n",
       "      <th>District</th>\n",
       "    </tr>\n",
       "  </thead>\n",
       "  <tbody>\n",
       "    <tr>\n",
       "      <th>0</th>\n",
       "      <td>https://www.cian.ru/sale/flat/301800762/</td>\n",
       "      <td>11000000</td>\n",
       "      <td>297297.0</td>\n",
       "      <td>37.0</td>\n",
       "      <td>5</td>\n",
       "      <td>19</td>\n",
       "      <td>1</td>\n",
       "      <td>False</td>\n",
       "      <td>2017</td>\n",
       "      <td>18</td>\n",
       "      <td>НАО (Новомосковский)</td>\n",
       "      <td>Внуковское поселение</td>\n",
       "    </tr>\n",
       "    <tr>\n",
       "      <th>1</th>\n",
       "      <td>https://www.cian.ru/sale/flat/301799226/</td>\n",
       "      <td>8990000</td>\n",
       "      <td>281818.0</td>\n",
       "      <td>31.9</td>\n",
       "      <td>24</td>\n",
       "      <td>25</td>\n",
       "      <td>0</td>\n",
       "      <td>True</td>\n",
       "      <td>2017</td>\n",
       "      <td>7</td>\n",
       "      <td>НАО (Новомосковский)</td>\n",
       "      <td>Московский</td>\n",
       "    </tr>\n",
       "    <tr>\n",
       "      <th>2</th>\n",
       "      <td>https://www.cian.ru/sale/flat/301797595/</td>\n",
       "      <td>10700000</td>\n",
       "      <td>382143.0</td>\n",
       "      <td>28.0</td>\n",
       "      <td>11</td>\n",
       "      <td>23</td>\n",
       "      <td>0</td>\n",
       "      <td>True</td>\n",
       "      <td>2021</td>\n",
       "      <td>2</td>\n",
       "      <td>НАО (Новомосковский)</td>\n",
       "      <td>Внуковское поселение</td>\n",
       "    </tr>\n",
       "    <tr>\n",
       "      <th>3</th>\n",
       "      <td>https://www.cian.ru/sale/flat/301796820/</td>\n",
       "      <td>12550181</td>\n",
       "      <td>299527.0</td>\n",
       "      <td>41.9</td>\n",
       "      <td>11</td>\n",
       "      <td>16</td>\n",
       "      <td>2</td>\n",
       "      <td>False</td>\n",
       "      <td>2024</td>\n",
       "      <td>9</td>\n",
       "      <td>НАО (Новомосковский)</td>\n",
       "      <td>Сосенское поселение</td>\n",
       "    </tr>\n",
       "    <tr>\n",
       "      <th>4</th>\n",
       "      <td>https://www.cian.ru/sale/flat/301796803/</td>\n",
       "      <td>4985475</td>\n",
       "      <td>353580.0</td>\n",
       "      <td>14.1</td>\n",
       "      <td>7</td>\n",
       "      <td>16</td>\n",
       "      <td>0</td>\n",
       "      <td>True</td>\n",
       "      <td>2026</td>\n",
       "      <td>23</td>\n",
       "      <td>НАО (Новомосковский)</td>\n",
       "      <td>Сосенское поселение</td>\n",
       "    </tr>\n",
       "    <tr>\n",
       "      <th>...</th>\n",
       "      <td>...</td>\n",
       "      <td>...</td>\n",
       "      <td>...</td>\n",
       "      <td>...</td>\n",
       "      <td>...</td>\n",
       "      <td>...</td>\n",
       "      <td>...</td>\n",
       "      <td>...</td>\n",
       "      <td>...</td>\n",
       "      <td>...</td>\n",
       "      <td>...</td>\n",
       "      <td>...</td>\n",
       "    </tr>\n",
       "    <tr>\n",
       "      <th>7151</th>\n",
       "      <td>https://www.cian.ru/sale/flat/292524495/</td>\n",
       "      <td>9530456</td>\n",
       "      <td>238859.0</td>\n",
       "      <td>39.9</td>\n",
       "      <td>17</td>\n",
       "      <td>26</td>\n",
       "      <td>1</td>\n",
       "      <td>False</td>\n",
       "      <td>2022</td>\n",
       "      <td>14</td>\n",
       "      <td>ЮВАО</td>\n",
       "      <td>р-н Некрасовка</td>\n",
       "    </tr>\n",
       "    <tr>\n",
       "      <th>7152</th>\n",
       "      <td>https://www.cian.ru/sale/flat/300797316/</td>\n",
       "      <td>10300000</td>\n",
       "      <td>268229.0</td>\n",
       "      <td>38.4</td>\n",
       "      <td>13</td>\n",
       "      <td>25</td>\n",
       "      <td>1</td>\n",
       "      <td>False</td>\n",
       "      <td>2017</td>\n",
       "      <td>9</td>\n",
       "      <td>ЮВАО</td>\n",
       "      <td>р-н Некрасовка</td>\n",
       "    </tr>\n",
       "    <tr>\n",
       "      <th>7153</th>\n",
       "      <td>https://www.cian.ru/sale/flat/301074964/</td>\n",
       "      <td>11500000</td>\n",
       "      <td>378289.0</td>\n",
       "      <td>30.4</td>\n",
       "      <td>8</td>\n",
       "      <td>9</td>\n",
       "      <td>1</td>\n",
       "      <td>False</td>\n",
       "      <td>1972</td>\n",
       "      <td>14</td>\n",
       "      <td>ЮВАО</td>\n",
       "      <td>р-н Текстильщики</td>\n",
       "    </tr>\n",
       "    <tr>\n",
       "      <th>7154</th>\n",
       "      <td>https://www.cian.ru/sale/flat/296104063/</td>\n",
       "      <td>9530456</td>\n",
       "      <td>238859.0</td>\n",
       "      <td>39.9</td>\n",
       "      <td>5</td>\n",
       "      <td>26</td>\n",
       "      <td>1</td>\n",
       "      <td>False</td>\n",
       "      <td>2022</td>\n",
       "      <td>14</td>\n",
       "      <td>ЮВАО</td>\n",
       "      <td>р-н Некрасовка</td>\n",
       "    </tr>\n",
       "    <tr>\n",
       "      <th>7155</th>\n",
       "      <td>https://www.cian.ru/sale/flat/293245389/</td>\n",
       "      <td>11200000</td>\n",
       "      <td>207407.0</td>\n",
       "      <td>54.0</td>\n",
       "      <td>11</td>\n",
       "      <td>17</td>\n",
       "      <td>2</td>\n",
       "      <td>False</td>\n",
       "      <td>2010</td>\n",
       "      <td>9</td>\n",
       "      <td>ЮВАО</td>\n",
       "      <td>р-н Некрасовка</td>\n",
       "    </tr>\n",
       "  </tbody>\n",
       "</table>\n",
       "<p>7156 rows × 12 columns</p>\n",
       "</div>"
      ],
      "text/plain": [
       "                                          Link     Price  Price per m2  \\\n",
       "0     https://www.cian.ru/sale/flat/301800762/  11000000      297297.0   \n",
       "1     https://www.cian.ru/sale/flat/301799226/   8990000      281818.0   \n",
       "2     https://www.cian.ru/sale/flat/301797595/  10700000      382143.0   \n",
       "3     https://www.cian.ru/sale/flat/301796820/  12550181      299527.0   \n",
       "4     https://www.cian.ru/sale/flat/301796803/   4985475      353580.0   \n",
       "...                                        ...       ...           ...   \n",
       "7151  https://www.cian.ru/sale/flat/292524495/   9530456      238859.0   \n",
       "7152  https://www.cian.ru/sale/flat/300797316/  10300000      268229.0   \n",
       "7153  https://www.cian.ru/sale/flat/301074964/  11500000      378289.0   \n",
       "7154  https://www.cian.ru/sale/flat/296104063/   9530456      238859.0   \n",
       "7155  https://www.cian.ru/sale/flat/293245389/  11200000      207407.0   \n",
       "\n",
       "      Square  Floor  Floors  Rooms  Is Apartment?  Year  Time to metro  \\\n",
       "0       37.0      5      19      1          False  2017             18   \n",
       "1       31.9     24      25      0           True  2017              7   \n",
       "2       28.0     11      23      0           True  2021              2   \n",
       "3       41.9     11      16      2          False  2024              9   \n",
       "4       14.1      7      16      0           True  2026             23   \n",
       "...      ...    ...     ...    ...            ...   ...            ...   \n",
       "7151    39.9     17      26      1          False  2022             14   \n",
       "7152    38.4     13      25      1          False  2017              9   \n",
       "7153    30.4      8       9      1          False  1972             14   \n",
       "7154    39.9      5      26      1          False  2022             14   \n",
       "7155    54.0     11      17      2          False  2010              9   \n",
       "\n",
       "                     Okrug              District  \n",
       "0     НАО (Новомосковский)  Внуковское поселение  \n",
       "1     НАО (Новомосковский)            Московский  \n",
       "2     НАО (Новомосковский)  Внуковское поселение  \n",
       "3     НАО (Новомосковский)   Сосенское поселение  \n",
       "4     НАО (Новомосковский)   Сосенское поселение  \n",
       "...                    ...                   ...  \n",
       "7151                  ЮВАО        р-н Некрасовка  \n",
       "7152                  ЮВАО        р-н Некрасовка  \n",
       "7153                  ЮВАО      р-н Текстильщики  \n",
       "7154                  ЮВАО        р-н Некрасовка  \n",
       "7155                  ЮВАО        р-н Некрасовка  \n",
       "\n",
       "[7156 rows x 12 columns]"
      ]
     },
     "execution_count": 9,
     "metadata": {},
     "output_type": "execute_result"
    }
   ],
   "source": [
    "df.reset_index(drop=True)"
   ]
  },
  {
   "cell_type": "markdown",
   "id": "f4be95b4",
   "metadata": {},
   "source": [
    "## Визуализация данных из подготовленного датасета\n",
    "\n",
    "#### Мы исследуем ценообразование на рынке жилой недвижимости в Москве и хотим проанализировать признаки, влияющие в большей степени на итоговый прайс"
   ]
  },
  {
   "cell_type": "markdown",
   "id": "8b6015f8",
   "metadata": {},
   "source": [
    "Для начала построим гистограмму распределения цены:"
   ]
  },
  {
   "cell_type": "code",
   "execution_count": 10,
   "id": "19d89209",
   "metadata": {},
   "outputs": [
    {
     "data": {
      "image/png": "[encoded data removed]",
      "text/plain": [
       "<Figure size 864x432 with 1 Axes>"
      ]
     },
     "metadata": {
      "needs_background": "light"
     },
     "output_type": "display_data"
    }
   ],
   "source": [
    "plt.figure(figsize=(12, 6))\n",
    "sns.histplot(data=df, x='Price', bins=50)\n",
    "plt.title('Гистограмма распределения цены квартиры')\n",
    "plt.xlabel('Цена')\n",
    "plt.ylabel('Частотность')\n",
    "plt.grid(True)\n",
    "plt.show()"
   ]
  },
  {
   "cell_type": "markdown",
   "id": "43bdcab0",
   "metadata": {},
   "source": [
    "Видим, что основная масса предложений на рынке распределена до 30 млн, и это довольно логично, так как в нашем датасете большинство предложений - 1,2 комнатные квартиры и 3комнатные в меньшей степени, построим ящик с усами, чтобы увидеть взаимосвязь между этими переменными:"
   ]
  },
  {
   "cell_type": "code",
   "execution_count": 11,
   "id": "825deaa5",
   "metadata": {},
   "outputs": [
    {
     "data": {
      "image/png": "[encoded data removed]",
      "text/plain": [
       "<Figure size 864x864 with 1 Axes>"
      ]
     },
     "metadata": {
      "needs_background": "light"
     },
     "output_type": "display_data"
    }
   ],
   "source": [
    "plt.figure(figsize=(12, 12))\n",
    "sns.boxplot(data=df, x='Rooms', y='Price')\n",
    "plt.title('Ящик с усами: Количество комнат - Цена')\n",
    "plt.xlabel('Количество комнат')\n",
    "plt.ylabel('Цена')\n",
    "plt.xlim(-0.5, 5.5)\n",
    "plt.ylim(0, 400000000)\n",
    "plt.grid(True)"
   ]
  },
  {
   "cell_type": "markdown",
   "id": "61baa7b3",
   "metadata": {},
   "source": [
    "Видна взаимосвязь между количеством комнат и ценой, однако очевидно, что для детального понимания ценообразования стоит рассмотреть все признаки в совокупности. Также очевидно, что количество квадратных метров - более детальная переменная, нежели количество комнат, поэтому построим аналогичный график для метража."
   ]
  },
  {
   "cell_type": "code",
   "execution_count": 12,
   "id": "600c75d0",
   "metadata": {},
   "outputs": [
    {
     "data": {
      "image/png": "[encoded data removed]",
      "text/plain": [
       "<Figure size 864x576 with 1 Axes>"
      ]
     },
     "metadata": {
      "needs_background": "light"
     },
     "output_type": "display_data"
    }
   ],
   "source": [
    "plt.figure(figsize=(12, 8))\n",
    "sns.scatterplot(data=df, x='Square', y='Price')\n",
    "plt.title('Диаграмма рассеивания по метрам-цене')\n",
    "plt.xlabel('Площадь')\n",
    "plt.ylabel('Цена')\n",
    "plt.ylim(0, 70000000)\n",
    "plt.xlim(0, 200)\n",
    "plt.grid(True)"
   ]
  },
  {
   "cell_type": "markdown",
   "id": "7debffe9",
   "metadata": {},
   "source": [
    "Видим довольно четкую линейную зависимости между количеством метров и ценой, чего и следовало ожидать, интересно также посмотреть на влияние \"время до метро\" на цену за квадратный метр:"
   ]
  },
  {
   "cell_type": "code",
   "execution_count": 13,
   "id": "7e2be738",
   "metadata": {},
   "outputs": [
    {
     "data": {
      "image/png": "[encoded data removed]",
      "text/plain": [
       "<Figure size 864x576 with 1 Axes>"
      ]
     },
     "metadata": {
      "needs_background": "light"
     },
     "output_type": "display_data"
    }
   ],
   "source": [
    "plt.figure(figsize=(12, 8))\n",
    "sns.scatterplot(data=df, x='Time to metro', y='Price per m2')\n",
    "plt.xlim(0, 35)\n",
    "plt.xlabel('Время до метро')\n",
    "plt.ylabel('Цена')\n",
    "plt.title('Диаграмма рассеивания: время до метро - цена')\n",
    "plt.grid(True)"
   ]
  },
  {
   "cell_type": "markdown",
   "id": "637cc8c4",
   "metadata": {},
   "source": [
    "Логично было бы утверждать, что время до метро обратно пропорционально влияет на стоимость квартиры, однако по диаграмме видно отсутствие зависимости, для проверки этого, а также влияния прочих численных признаков на цену, интересно посмотреть на"
   ]
  },
  {
   "cell_type": "code",
   "execution_count": 14,
   "id": "861115bd",
   "metadata": {},
   "outputs": [
    {
     "data": {
      "image/png": "[encoded data removed]",
      "text/plain": [
       "<Figure size 864x864 with 2 Axes>"
      ]
     },
     "metadata": {
      "needs_background": "light"
     },
     "output_type": "display_data"
    }
   ],
   "source": [
    "corr_matrix = df.corr(method='pearson')\n",
    "plt.figure(figsize=(12, 12))\n",
    "plt.title('Корреляционная матрица')\n",
    "sns.heatmap(corr_matrix, annot=True, cmap='coolwarm')\n",
    "plt.show()"
   ]
  },
  {
   "cell_type": "markdown",
   "id": "d41acc51",
   "metadata": {},
   "source": [
    "__Вывод:__ по матрице видим, что на цену:\n",
    "* стоимость за квадратный метр оказывает сильное положительное влияние\n",
    "* площадь оказывает сильное положительное влияние\n",
    "* количество комнат оказывает умеренное положительное влияние\n",
    "* остальные признаки оказывают слабое положительное влияние"
   ]
  },
  {
   "cell_type": "markdown",
   "id": "acbfb3ab",
   "metadata": {},
   "source": [
    "С помощью корреляционной матрицы мы определили, как числовые переменные влияют на ценообразование, однако у нас есть и категориальные переменные, которые также необходимо проанализировать:"
   ]
  },
  {
   "cell_type": "code",
   "execution_count": 15,
   "id": "7178d4c2",
   "metadata": {},
   "outputs": [
    {
     "data": {
      "text/plain": [
       "Text(0, 0.5, 'Цена за квадратный метр')"
      ]
     },
     "execution_count": 15,
     "metadata": {},
     "output_type": "execute_result"
    },
    {
     "data": {
      "image/png": "[encoded data removed]",
      "text/plain": [
       "<Figure size 1800x1080 with 1 Axes>"
      ]
     },
     "metadata": {
      "needs_background": "light"
     },
     "output_type": "display_data"
    }
   ],
   "source": [
    "plt.figure(figsize=(25, 15));\n",
    "sns.barplot(data = df.sort_values('Price per m2', ascending = False), x = 'Okrug', y = 'Price per m2')\n",
    "plt.title('Средняя стоимость квартир по округам', fontsize = 20)\n",
    "plt.xlabel('Округ', fontsize = 15)\n",
    "plt.ylabel('Цена за квадратный метр', fontsize = 15)"
   ]
  },
  {
   "cell_type": "markdown",
   "id": "823aae89",
   "metadata": {},
   "source": [
    "Вывод по графику: видно, что наиболее высокая стоимость за квадратный метр наблюдается в ЦАО и ЗАО, которые считаются престижными округами Москвы, что и делает их самыми дорогими, в качестве дальнейшей гипотезы проверим, одинакова ли дисперсия в этих округах"
   ]
  },
  {
   "cell_type": "markdown",
   "id": "952b4b21",
   "metadata": {},
   "source": [
    "Интересно копнуть дальше в сторону анализа округов и посмотреть есть ли зависимость от времени до метро:"
   ]
  },
  {
   "cell_type": "code",
   "execution_count": 16,
   "id": "af65cd3e",
   "metadata": {},
   "outputs": [
    {
     "data": {
      "text/plain": [
       "Text(0, 0.5, 'Вемя до метро, мин')"
      ]
     },
     "execution_count": 16,
     "metadata": {},
     "output_type": "execute_result"
    },
    {
     "data": {
      "image/png": "[encoded data removed]",
      "text/plain": [
       "<Figure size 1800x1080 with 1 Axes>"
      ]
     },
     "metadata": {
      "needs_background": "light"
     },
     "output_type": "display_data"
    }
   ],
   "source": [
    "plt.figure(figsize=(25, 15));\n",
    "sns.barplot(data = df, x = 'Okrug', y = 'Time to metro')\n",
    "plt.title('Среднее время до метро по округам', fontsize = 20)\n",
    "plt.xlabel('Округ', fontsize = 15)\n",
    "plt.ylabel('Вемя до метро, мин', fontsize = 15)"
   ]
  },
  {
   "cell_type": "markdown",
   "id": "88d03ca6",
   "metadata": {},
   "source": [
    "На графике видно, что по самому высокому времени до метро лидируют ТАО и р-н Новая Москва, что абсолютно логично, так как это два единственных административных округа, которые образованы в 2012 году в процессе расширения территории города, и следовательно, метро только развивается в ту сторону, и наименее развито на данный момент.\n",
    "\n",
    "Более того, лидирует по самому низкому времени до метро ЦАО, что также логично, так как в центре Москвы сконцетрированы множество станций для удобства перемещения по центру."
   ]
  },
  {
   "cell_type": "markdown",
   "id": "c1f862cc",
   "metadata": {},
   "source": [
    "## Создание новых признаков\n",
    "\n",
    "#### В качестве гипотезы мы хотим проверить есть ли дисконт за проживание на первом этаж/последнем этаже, для этого создадим 2 дополнительных бинарных столбца:"
   ]
  },
  {
   "cell_type": "code",
   "execution_count": 17,
   "id": "2551b6ab",
   "metadata": {},
   "outputs": [],
   "source": [
    "def IsLastFloor(row):\n",
    "    if row['Floor'] == row['Floors']:\n",
    "        return 1\n",
    "    else:\n",
    "        return 0\n",
    "    \n",
    "def IsFirstFloor(row):\n",
    "    if row['Floor'] == 1:\n",
    "        return 1\n",
    "    else:\n",
    "        return 0"
   ]
  },
  {
   "cell_type": "code",
   "execution_count": 18,
   "id": "aa58f8a1",
   "metadata": {},
   "outputs": [],
   "source": [
    "df['IsLastFloor'] = df.apply(IsLastFloor, axis=1)\n",
    "df['IsFirstFloor'] = df.apply(IsFirstFloor, axis=1)"
   ]
  },
  {
   "cell_type": "markdown",
   "id": "d0906863",
   "metadata": {},
   "source": [
    "Проверим корректность отработки кода"
   ]
  },
  {
   "cell_type": "code",
   "execution_count": 19,
   "id": "e1ec65c3",
   "metadata": {},
   "outputs": [],
   "source": [
    "df_last_floor = df[df['IsLastFloor'] == 1]"
   ]
  },
  {
   "cell_type": "code",
   "execution_count": 20,
   "id": "47b55a62",
   "metadata": {},
   "outputs": [],
   "source": [
    "df_first_floor = df[df['IsFirstFloor'] == 1]"
   ]
  },
  {
   "cell_type": "markdown",
   "id": "76e2d385",
   "metadata": {},
   "source": [
    "## Гипотезы"
   ]
  },
  {
   "cell_type": "markdown",
   "id": "6ae186b4",
   "metadata": {},
   "source": [
    "#### Гипотезы:\n",
    "1. Есть дисконт в стоимости квартиры на последнем этаже\n",
    "2. Есть дисконт в стоимости квартиры на первом этаже\n",
    "3. В апартаментах стоимость квадратного метра меньше чем в квартире\n",
    "4. В более новых домах по году постройки этажность больше"
   ]
  },
  {
   "cell_type": "markdown",
   "id": "7418ba5e",
   "metadata": {},
   "source": [
    "#### Гипотеза 1\n",
    "Есть дисконт в стоимости квартиры на последнем этаже\n",
    "\n",
    "Создаем переменную с датасетом, который содержит предложения квартир, не находящихся на последнем этаже, и не находящихся на первом этаже"
   ]
  },
  {
   "cell_type": "code",
   "execution_count": 21,
   "id": "cebe0268",
   "metadata": {},
   "outputs": [],
   "source": [
    "df_middle_floor = df[(df['IsLastFloor'] == 0) & (df['IsFirstFloor'] == 0)]"
   ]
  },
  {
   "cell_type": "code",
   "execution_count": 22,
   "id": "16c39f7f",
   "metadata": {},
   "outputs": [],
   "source": [
    "x = df_middle_floor['Price'].median()\n",
    "y = df_last_floor['Price'].median()"
   ]
  },
  {
   "cell_type": "code",
   "execution_count": 23,
   "id": "d068d31f",
   "metadata": {},
   "outputs": [
    {
     "data": {
      "image/png": "[encoded data removed]",
      "text/plain": [
       "<Figure size 432x864 with 2 Axes>"
      ]
     },
     "metadata": {
      "needs_background": "light"
     },
     "output_type": "display_data"
    }
   ],
   "source": [
    "plt.figure(figsize=(6, 12))\n",
    "plt.subplot(1, 2, 1)\n",
    "sns.boxplot(data=df_middle_floor, y='Price', showfliers = False)\n",
    "plt.title('Не последний этаж')\n",
    "plt.xlabel(f'median = {round(x,2)}')\n",
    "plt.ylabel('Цена')\n",
    "plt.xlim(-0.5, 0.5)\n",
    "plt.ylim(0,50000000)\n",
    "plt.grid(True)\n",
    "\n",
    "plt.subplot(1, 2, 2)\n",
    "sns.boxplot(data=df_last_floor, y='Price', showfliers = False)\n",
    "plt.title('Последний этаж')\n",
    "plt.xlabel(f'median = {round(y,2)}')\n",
    "plt.ylabel('Цена')\n",
    "plt.xlim(-0.5, 0.5)\n",
    "plt.ylim(0,50000000)\n",
    "plt.grid(True)"
   ]
  },
  {
   "cell_type": "markdown",
   "id": "b7982b94",
   "metadata": {},
   "source": [
    "__Вывод:__ гипотеза подтвердилась, видим дисконт по боксплотам и медианам для выборки, содержащей предложения квартир на последнем этаже, также взяли медиану, как ориентир, так как она менее подвержена выбросам, чем средняя."
   ]
  },
  {
   "cell_type": "markdown",
   "id": "107f50ec",
   "metadata": {},
   "source": [
    "#### Гипотеза 2\n",
    "Есть дисконт в стоимости квартиры на первом этаже"
   ]
  },
  {
   "cell_type": "code",
   "execution_count": 24,
   "id": "ff5a2007",
   "metadata": {},
   "outputs": [],
   "source": [
    "x = df_middle_floor['Price'].median()\n",
    "y = df_first_floor['Price'].median()"
   ]
  },
  {
   "cell_type": "code",
   "execution_count": 25,
   "id": "c8b32a73",
   "metadata": {},
   "outputs": [
    {
     "data": {
      "image/png": "[encoded data removed]",
      "text/plain": [
       "<Figure size 432x864 with 2 Axes>"
      ]
     },
     "metadata": {
      "needs_background": "light"
     },
     "output_type": "display_data"
    }
   ],
   "source": [
    "plt.figure(figsize=(6, 12))\n",
    "plt.subplot(1, 2, 1)\n",
    "sns.boxplot(data=df_middle_floor, y='Price', showfliers = False)\n",
    "plt.title('Не первый этаж')\n",
    "plt.xlabel(f'median = {round(x,2)}')\n",
    "plt.ylabel('Цена')\n",
    "plt.xlim(-0.5, 0.5)\n",
    "plt.ylim(0,50000000)\n",
    "plt.grid(True)\n",
    "\n",
    "plt.subplot(1, 2, 2)\n",
    "sns.boxplot(data=df_first_floor, y='Price', showfliers = False)\n",
    "plt.title('Первый этаж')\n",
    "plt.xlabel(f'median = {round(y,2)}')\n",
    "plt.ylabel('Цена')\n",
    "plt.xlim(-0.5, 0.5)\n",
    "plt.ylim(0,50000000)\n",
    "plt.grid(True)"
   ]
  },
  {
   "cell_type": "markdown",
   "id": "d2503a79",
   "metadata": {},
   "source": [
    "__Вывод:__ гипотеза подтвердилась, видим дисконт по боксплотам и медианам для выборки, содержащей предложения квартир на первом этаже, также взяли медиану, как ориентир, так как она менее подвержена выбросам, чем средняя, также видим, что дисконт для первого этажа сильнее, чем дисконт для последнего этажа"
   ]
  },
  {
   "cell_type": "markdown",
   "id": "f97eb09d",
   "metadata": {},
   "source": [
    "#### Гипотеза 3\n",
    "В апартаментах стоимость квадратного метра меньше чем в квартире."
   ]
  },
  {
   "cell_type": "code",
   "execution_count": 26,
   "id": "ae4af366",
   "metadata": {},
   "outputs": [],
   "source": [
    "df_not_apartment = df[df['Is Apartment?'] == False]\n",
    "df_apartment = df[df['Is Apartment?'] == True]"
   ]
  },
  {
   "cell_type": "code",
   "execution_count": 27,
   "id": "ef4a3e1e",
   "metadata": {},
   "outputs": [],
   "source": [
    "x = df_not_apartment['Price per m2'].median()\n",
    "y = df_apartment['Price per m2'].median()"
   ]
  },
  {
   "cell_type": "code",
   "execution_count": 28,
   "id": "eae07117",
   "metadata": {},
   "outputs": [
    {
     "data": {
      "image/png": "[encoded data removed]",
      "text/plain": [
       "<Figure size 432x864 with 2 Axes>"
      ]
     },
     "metadata": {
      "needs_background": "light"
     },
     "output_type": "display_data"
    }
   ],
   "source": [
    "plt.figure(figsize=(6, 12))\n",
    "plt.subplot(1, 2, 1)\n",
    "sns.boxplot(data=df_not_apartment, y='Price per m2', showfliers = False)\n",
    "plt.title('Не апартаменты')\n",
    "plt.xlabel(f'median = {round(x,2)}')\n",
    "plt.ylabel('Цена за кв.м')\n",
    "plt.xlim(-0.5, 0.5)\n",
    "plt.ylim(0,1000000)\n",
    "plt.grid(True)\n",
    "\n",
    "plt.subplot(1, 2, 2)\n",
    "sns.boxplot(data=df_apartment, y='Price per m2', showfliers = False)\n",
    "plt.title('Апартаменты')\n",
    "plt.xlabel(f'median = {round(y,2)}')\n",
    "plt.ylabel('Цена за кв.м')\n",
    "plt.xlim(-0.5, 0.5)\n",
    "plt.ylim(0, 1000000)\n",
    "plt.grid(True)"
   ]
  },
  {
   "cell_type": "markdown",
   "id": "cf95d266",
   "metadata": {},
   "source": [
    "Видим, что стоимость апартаментов за квадратный метр больше, как и медиана, больше, что довольно странно, проанализируем, с чем это может быть связано: сначала попробуем посмотреть, есть ли у нас смещенность относительно округов в сторону более дорогих для апартаментов:"
   ]
  },
  {
   "cell_type": "code",
   "execution_count": 29,
   "id": "a374d3e4",
   "metadata": {},
   "outputs": [
    {
     "name": "stdout",
     "output_type": "stream",
     "text": [
      "Процент квартир ЦАО по апартаментам: 19.751809720785936\n"
     ]
    }
   ],
   "source": [
    "a = df_apartment['Okrug'].value_counts()['ЦАО']/df_apartment.shape[0] * 100\n",
    "print(f'Процент квартир ЦАО по апартаментам: {a}')"
   ]
  },
  {
   "cell_type": "code",
   "execution_count": 30,
   "id": "804bdfa8",
   "metadata": {},
   "outputs": [
    {
     "name": "stdout",
     "output_type": "stream",
     "text": [
      "Процент квартир ЦАО по апартаментам: 8.191953465826467\n"
     ]
    }
   ],
   "source": [
    "a = df_not_apartment['Okrug'].value_counts()['ЦАО']/df_not_apartment.shape[0] * 100\n",
    "print(f'Процент квартир ЦАО по апартаментам: {a}')"
   ]
  },
  {
   "cell_type": "markdown",
   "id": "70d48120",
   "metadata": {},
   "source": [
    "Видим, что действительно, апартаментов в 2 раза больше в ЦАО в нашем датасете, нежели в выборке по не апартаментам, следовательно, проведем тестирование гипотезы вне ЦАО"
   ]
  },
  {
   "cell_type": "code",
   "execution_count": 31,
   "id": "c4ed16a3",
   "metadata": {},
   "outputs": [],
   "source": [
    "df_not_apartment_not_cao = df[(df['Is Apartment?'] == False) & (df['Okrug'] != 'ЦАО')]\n",
    "df_apartment_not_cao = df[(df['Is Apartment?'] == True) & (df['Okrug'] != 'ЦАО')]"
   ]
  },
  {
   "cell_type": "code",
   "execution_count": 32,
   "id": "138b8bb6",
   "metadata": {},
   "outputs": [],
   "source": [
    "x = df_not_apartment_not_cao['Price per m2'].median()\n",
    "y = df_apartment_not_cao['Price per m2'].median()"
   ]
  },
  {
   "cell_type": "code",
   "execution_count": 33,
   "id": "4d991f4d",
   "metadata": {},
   "outputs": [
    {
     "data": {
      "image/png": "[encoded data removed]",
      "text/plain": [
       "<Figure size 432x864 with 2 Axes>"
      ]
     },
     "metadata": {
      "needs_background": "light"
     },
     "output_type": "display_data"
    }
   ],
   "source": [
    "plt.figure(figsize=(6, 12))\n",
    "plt.subplot(1, 2, 1)\n",
    "sns.boxplot(data=df_not_apartment_not_cao, y='Price per m2', showfliers = False)\n",
    "plt.title('Не апартаменты')\n",
    "plt.xlabel(f'median = {round(x,2)}')\n",
    "plt.ylabel('Цена за кв.м')\n",
    "plt.xlim(-0.5, 0.5)\n",
    "plt.ylim(0,700000)\n",
    "plt.grid(True)\n",
    "\n",
    "plt.subplot(1, 2, 2)\n",
    "sns.boxplot(data=df_apartment_not_cao, y='Price per m2', showfliers = False)\n",
    "plt.title('Апартаменты')\n",
    "plt.xlabel(f'median = {round(y,2)}')\n",
    "plt.ylabel('Цена за кв.м')\n",
    "plt.xlim(-0.5, 0.5)\n",
    "plt.ylim(0, 700000)\n",
    "plt.grid(True)"
   ]
  },
  {
   "cell_type": "markdown",
   "id": "7e4f610b",
   "metadata": {},
   "source": [
    "__Вывод:__ гипотеза не подтвердилась, видим премию за стоимость квадратного метра в апартаментах вне ЦАО"
   ]
  },
  {
   "cell_type": "markdown",
   "id": "b6026b30",
   "metadata": {},
   "source": [
    "#### Гипотеза 4\n",
    "\n",
    "В более новых домах по году постройки этажность больше"
   ]
  },
  {
   "cell_type": "code",
   "execution_count": 34,
   "id": "3810ac3f",
   "metadata": {},
   "outputs": [
    {
     "data": {
      "image/png": "[encoded data removed]",
      "text/plain": [
       "<Figure size 720x432 with 1 Axes>"
      ]
     },
     "metadata": {
      "needs_background": "light"
     },
     "output_type": "display_data"
    }
   ],
   "source": [
    "average_floors_by_year = df.groupby('Year')['Floors'].mean().reset_index()\n",
    "\n",
    "plt.figure(figsize=(10, 6))\n",
    "plt.bar(average_floors_by_year['Year'], average_floors_by_year['Floors'])\n",
    "plt.xlabel('Год постройки')\n",
    "plt.ylabel('Среднее кол-во этажей')\n",
    "plt.title('Среднее кол-во этажей по годам')\n",
    "plt.xlim(1900, 2030)\n",
    "\n",
    "plt.show()"
   ]
  },
  {
   "cell_type": "markdown",
   "id": "5838a7ae",
   "metadata": {},
   "source": [
    "__Вывод:__ гипотеза подтвердилась, видим увеличение количества этажей в домах с каждым новым годом"
   ]
  },
  {
   "cell_type": "markdown",
   "id": "f91bcb80",
   "metadata": {},
   "source": [
    "## ML"
   ]
  },
  {
   "cell_type": "markdown",
   "id": "8f253063",
   "metadata": {},
   "source": [
    "Для начала подготовим датасет для обучения модели, переведем категориальные переменные в дамми"
   ]
  },
  {
   "cell_type": "code",
   "execution_count": 35,
   "id": "9d018929",
   "metadata": {},
   "outputs": [
    {
     "data": {
      "text/html": [
       "<div>\n",
       "<style scoped>\n",
       "    .dataframe tbody tr th:only-of-type {\n",
       "        vertical-align: middle;\n",
       "    }\n",
       "\n",
       "    .dataframe tbody tr th {\n",
       "        vertical-align: top;\n",
       "    }\n",
       "\n",
       "    .dataframe thead th {\n",
       "        text-align: right;\n",
       "    }\n",
       "</style>\n",
       "<table border=\"1\" class=\"dataframe\">\n",
       "  <thead>\n",
       "    <tr style=\"text-align: right;\">\n",
       "      <th></th>\n",
       "      <th>Price</th>\n",
       "      <th>Square</th>\n",
       "      <th>Floor</th>\n",
       "      <th>Floors</th>\n",
       "      <th>Rooms</th>\n",
       "      <th>Is Apartment?</th>\n",
       "      <th>Year</th>\n",
       "      <th>Time to metro</th>\n",
       "      <th>Okrug</th>\n",
       "      <th>District</th>\n",
       "    </tr>\n",
       "  </thead>\n",
       "  <tbody>\n",
       "    <tr>\n",
       "      <th>0</th>\n",
       "      <td>11000000</td>\n",
       "      <td>37.0</td>\n",
       "      <td>5</td>\n",
       "      <td>19</td>\n",
       "      <td>1</td>\n",
       "      <td>False</td>\n",
       "      <td>2017</td>\n",
       "      <td>18</td>\n",
       "      <td>НАО (Новомосковский)</td>\n",
       "      <td>Внуковское поселение</td>\n",
       "    </tr>\n",
       "    <tr>\n",
       "      <th>1</th>\n",
       "      <td>8990000</td>\n",
       "      <td>31.9</td>\n",
       "      <td>24</td>\n",
       "      <td>25</td>\n",
       "      <td>0</td>\n",
       "      <td>True</td>\n",
       "      <td>2017</td>\n",
       "      <td>7</td>\n",
       "      <td>НАО (Новомосковский)</td>\n",
       "      <td>Московский</td>\n",
       "    </tr>\n",
       "    <tr>\n",
       "      <th>2</th>\n",
       "      <td>10700000</td>\n",
       "      <td>28.0</td>\n",
       "      <td>11</td>\n",
       "      <td>23</td>\n",
       "      <td>0</td>\n",
       "      <td>True</td>\n",
       "      <td>2021</td>\n",
       "      <td>2</td>\n",
       "      <td>НАО (Новомосковский)</td>\n",
       "      <td>Внуковское поселение</td>\n",
       "    </tr>\n",
       "    <tr>\n",
       "      <th>3</th>\n",
       "      <td>12550181</td>\n",
       "      <td>41.9</td>\n",
       "      <td>11</td>\n",
       "      <td>16</td>\n",
       "      <td>2</td>\n",
       "      <td>False</td>\n",
       "      <td>2024</td>\n",
       "      <td>9</td>\n",
       "      <td>НАО (Новомосковский)</td>\n",
       "      <td>Сосенское поселение</td>\n",
       "    </tr>\n",
       "    <tr>\n",
       "      <th>4</th>\n",
       "      <td>4985475</td>\n",
       "      <td>14.1</td>\n",
       "      <td>7</td>\n",
       "      <td>16</td>\n",
       "      <td>0</td>\n",
       "      <td>True</td>\n",
       "      <td>2026</td>\n",
       "      <td>23</td>\n",
       "      <td>НАО (Новомосковский)</td>\n",
       "      <td>Сосенское поселение</td>\n",
       "    </tr>\n",
       "    <tr>\n",
       "      <th>...</th>\n",
       "      <td>...</td>\n",
       "      <td>...</td>\n",
       "      <td>...</td>\n",
       "      <td>...</td>\n",
       "      <td>...</td>\n",
       "      <td>...</td>\n",
       "      <td>...</td>\n",
       "      <td>...</td>\n",
       "      <td>...</td>\n",
       "      <td>...</td>\n",
       "    </tr>\n",
       "    <tr>\n",
       "      <th>7772</th>\n",
       "      <td>9530456</td>\n",
       "      <td>39.9</td>\n",
       "      <td>17</td>\n",
       "      <td>26</td>\n",
       "      <td>1</td>\n",
       "      <td>False</td>\n",
       "      <td>2022</td>\n",
       "      <td>14</td>\n",
       "      <td>ЮВАО</td>\n",
       "      <td>р-н Некрасовка</td>\n",
       "    </tr>\n",
       "    <tr>\n",
       "      <th>7773</th>\n",
       "      <td>10300000</td>\n",
       "      <td>38.4</td>\n",
       "      <td>13</td>\n",
       "      <td>25</td>\n",
       "      <td>1</td>\n",
       "      <td>False</td>\n",
       "      <td>2017</td>\n",
       "      <td>9</td>\n",
       "      <td>ЮВАО</td>\n",
       "      <td>р-н Некрасовка</td>\n",
       "    </tr>\n",
       "    <tr>\n",
       "      <th>7774</th>\n",
       "      <td>11500000</td>\n",
       "      <td>30.4</td>\n",
       "      <td>8</td>\n",
       "      <td>9</td>\n",
       "      <td>1</td>\n",
       "      <td>False</td>\n",
       "      <td>1972</td>\n",
       "      <td>14</td>\n",
       "      <td>ЮВАО</td>\n",
       "      <td>р-н Текстильщики</td>\n",
       "    </tr>\n",
       "    <tr>\n",
       "      <th>7776</th>\n",
       "      <td>9530456</td>\n",
       "      <td>39.9</td>\n",
       "      <td>5</td>\n",
       "      <td>26</td>\n",
       "      <td>1</td>\n",
       "      <td>False</td>\n",
       "      <td>2022</td>\n",
       "      <td>14</td>\n",
       "      <td>ЮВАО</td>\n",
       "      <td>р-н Некрасовка</td>\n",
       "    </tr>\n",
       "    <tr>\n",
       "      <th>7777</th>\n",
       "      <td>11200000</td>\n",
       "      <td>54.0</td>\n",
       "      <td>11</td>\n",
       "      <td>17</td>\n",
       "      <td>2</td>\n",
       "      <td>False</td>\n",
       "      <td>2010</td>\n",
       "      <td>9</td>\n",
       "      <td>ЮВАО</td>\n",
       "      <td>р-н Некрасовка</td>\n",
       "    </tr>\n",
       "  </tbody>\n",
       "</table>\n",
       "<p>7156 rows × 10 columns</p>\n",
       "</div>"
      ],
      "text/plain": [
       "         Price  Square  Floor  Floors  Rooms  Is Apartment?  Year  \\\n",
       "0     11000000    37.0      5      19      1          False  2017   \n",
       "1      8990000    31.9     24      25      0           True  2017   \n",
       "2     10700000    28.0     11      23      0           True  2021   \n",
       "3     12550181    41.9     11      16      2          False  2024   \n",
       "4      4985475    14.1      7      16      0           True  2026   \n",
       "...        ...     ...    ...     ...    ...            ...   ...   \n",
       "7772   9530456    39.9     17      26      1          False  2022   \n",
       "7773  10300000    38.4     13      25      1          False  2017   \n",
       "7774  11500000    30.4      8       9      1          False  1972   \n",
       "7776   9530456    39.9      5      26      1          False  2022   \n",
       "7777  11200000    54.0     11      17      2          False  2010   \n",
       "\n",
       "      Time to metro                 Okrug              District  \n",
       "0                18  НАО (Новомосковский)  Внуковское поселение  \n",
       "1                 7  НАО (Новомосковский)            Московский  \n",
       "2                 2  НАО (Новомосковский)  Внуковское поселение  \n",
       "3                 9  НАО (Новомосковский)   Сосенское поселение  \n",
       "4                23  НАО (Новомосковский)   Сосенское поселение  \n",
       "...             ...                   ...                   ...  \n",
       "7772             14                  ЮВАО        р-н Некрасовка  \n",
       "7773              9                  ЮВАО        р-н Некрасовка  \n",
       "7774             14                  ЮВАО      р-н Текстильщики  \n",
       "7776             14                  ЮВАО        р-н Некрасовка  \n",
       "7777              9                  ЮВАО        р-н Некрасовка  \n",
       "\n",
       "[7156 rows x 10 columns]"
      ]
     },
     "execution_count": 35,
     "metadata": {},
     "output_type": "execute_result"
    }
   ],
   "source": [
    "df_new = df.drop(columns = ['Link', 'Price per m2', 'IsLastFloor', 'IsFirstFloor'])\n",
    "df_new"
   ]
  },
  {
   "cell_type": "code",
   "execution_count": 36,
   "id": "03041178",
   "metadata": {},
   "outputs": [
    {
     "data": {
      "text/html": [
       "<div>\n",
       "<style scoped>\n",
       "    .dataframe tbody tr th:only-of-type {\n",
       "        vertical-align: middle;\n",
       "    }\n",
       "\n",
       "    .dataframe tbody tr th {\n",
       "        vertical-align: top;\n",
       "    }\n",
       "\n",
       "    .dataframe thead th {\n",
       "        text-align: right;\n",
       "    }\n",
       "</style>\n",
       "<table border=\"1\" class=\"dataframe\">\n",
       "  <thead>\n",
       "    <tr style=\"text-align: right;\">\n",
       "      <th></th>\n",
       "      <th>Price</th>\n",
       "      <th>Square</th>\n",
       "      <th>Floor</th>\n",
       "      <th>Floors</th>\n",
       "      <th>Rooms</th>\n",
       "      <th>Year</th>\n",
       "      <th>Time to metro</th>\n",
       "      <th>Is Apartment?_True</th>\n",
       "      <th>Okrug_ЗАО</th>\n",
       "      <th>Okrug_ЗелАО</th>\n",
       "      <th>...</th>\n",
       "      <th>District_р-н Чертаново Южное</th>\n",
       "      <th>District_р-н Щукино</th>\n",
       "      <th>District_р-н Южное Бутово</th>\n",
       "      <th>District_р-н Южное Медведково</th>\n",
       "      <th>District_р-н Южное Тушино</th>\n",
       "      <th>District_р-н Южнопортовый</th>\n",
       "      <th>District_р-н Якиманка</th>\n",
       "      <th>District_р-н Ярославский</th>\n",
       "      <th>District_р-н Ясенево</th>\n",
       "      <th>District_ул. Усадебный Парк</th>\n",
       "    </tr>\n",
       "  </thead>\n",
       "  <tbody>\n",
       "    <tr>\n",
       "      <th>0</th>\n",
       "      <td>11000000</td>\n",
       "      <td>37.0</td>\n",
       "      <td>5</td>\n",
       "      <td>19</td>\n",
       "      <td>1</td>\n",
       "      <td>2017</td>\n",
       "      <td>18</td>\n",
       "      <td>0</td>\n",
       "      <td>0</td>\n",
       "      <td>0</td>\n",
       "      <td>...</td>\n",
       "      <td>0</td>\n",
       "      <td>0</td>\n",
       "      <td>0</td>\n",
       "      <td>0</td>\n",
       "      <td>0</td>\n",
       "      <td>0</td>\n",
       "      <td>0</td>\n",
       "      <td>0</td>\n",
       "      <td>0</td>\n",
       "      <td>0</td>\n",
       "    </tr>\n",
       "    <tr>\n",
       "      <th>1</th>\n",
       "      <td>8990000</td>\n",
       "      <td>31.9</td>\n",
       "      <td>24</td>\n",
       "      <td>25</td>\n",
       "      <td>0</td>\n",
       "      <td>2017</td>\n",
       "      <td>7</td>\n",
       "      <td>1</td>\n",
       "      <td>0</td>\n",
       "      <td>0</td>\n",
       "      <td>...</td>\n",
       "      <td>0</td>\n",
       "      <td>0</td>\n",
       "      <td>0</td>\n",
       "      <td>0</td>\n",
       "      <td>0</td>\n",
       "      <td>0</td>\n",
       "      <td>0</td>\n",
       "      <td>0</td>\n",
       "      <td>0</td>\n",
       "      <td>0</td>\n",
       "    </tr>\n",
       "    <tr>\n",
       "      <th>2</th>\n",
       "      <td>10700000</td>\n",
       "      <td>28.0</td>\n",
       "      <td>11</td>\n",
       "      <td>23</td>\n",
       "      <td>0</td>\n",
       "      <td>2021</td>\n",
       "      <td>2</td>\n",
       "      <td>1</td>\n",
       "      <td>0</td>\n",
       "      <td>0</td>\n",
       "      <td>...</td>\n",
       "      <td>0</td>\n",
       "      <td>0</td>\n",
       "      <td>0</td>\n",
       "      <td>0</td>\n",
       "      <td>0</td>\n",
       "      <td>0</td>\n",
       "      <td>0</td>\n",
       "      <td>0</td>\n",
       "      <td>0</td>\n",
       "      <td>0</td>\n",
       "    </tr>\n",
       "    <tr>\n",
       "      <th>3</th>\n",
       "      <td>12550181</td>\n",
       "      <td>41.9</td>\n",
       "      <td>11</td>\n",
       "      <td>16</td>\n",
       "      <td>2</td>\n",
       "      <td>2024</td>\n",
       "      <td>9</td>\n",
       "      <td>0</td>\n",
       "      <td>0</td>\n",
       "      <td>0</td>\n",
       "      <td>...</td>\n",
       "      <td>0</td>\n",
       "      <td>0</td>\n",
       "      <td>0</td>\n",
       "      <td>0</td>\n",
       "      <td>0</td>\n",
       "      <td>0</td>\n",
       "      <td>0</td>\n",
       "      <td>0</td>\n",
       "      <td>0</td>\n",
       "      <td>0</td>\n",
       "    </tr>\n",
       "    <tr>\n",
       "      <th>4</th>\n",
       "      <td>4985475</td>\n",
       "      <td>14.1</td>\n",
       "      <td>7</td>\n",
       "      <td>16</td>\n",
       "      <td>0</td>\n",
       "      <td>2026</td>\n",
       "      <td>23</td>\n",
       "      <td>1</td>\n",
       "      <td>0</td>\n",
       "      <td>0</td>\n",
       "      <td>...</td>\n",
       "      <td>0</td>\n",
       "      <td>0</td>\n",
       "      <td>0</td>\n",
       "      <td>0</td>\n",
       "      <td>0</td>\n",
       "      <td>0</td>\n",
       "      <td>0</td>\n",
       "      <td>0</td>\n",
       "      <td>0</td>\n",
       "      <td>0</td>\n",
       "    </tr>\n",
       "    <tr>\n",
       "      <th>...</th>\n",
       "      <td>...</td>\n",
       "      <td>...</td>\n",
       "      <td>...</td>\n",
       "      <td>...</td>\n",
       "      <td>...</td>\n",
       "      <td>...</td>\n",
       "      <td>...</td>\n",
       "      <td>...</td>\n",
       "      <td>...</td>\n",
       "      <td>...</td>\n",
       "      <td>...</td>\n",
       "      <td>...</td>\n",
       "      <td>...</td>\n",
       "      <td>...</td>\n",
       "      <td>...</td>\n",
       "      <td>...</td>\n",
       "      <td>...</td>\n",
       "      <td>...</td>\n",
       "      <td>...</td>\n",
       "      <td>...</td>\n",
       "      <td>...</td>\n",
       "    </tr>\n",
       "    <tr>\n",
       "      <th>7772</th>\n",
       "      <td>9530456</td>\n",
       "      <td>39.9</td>\n",
       "      <td>17</td>\n",
       "      <td>26</td>\n",
       "      <td>1</td>\n",
       "      <td>2022</td>\n",
       "      <td>14</td>\n",
       "      <td>0</td>\n",
       "      <td>0</td>\n",
       "      <td>0</td>\n",
       "      <td>...</td>\n",
       "      <td>0</td>\n",
       "      <td>0</td>\n",
       "      <td>0</td>\n",
       "      <td>0</td>\n",
       "      <td>0</td>\n",
       "      <td>0</td>\n",
       "      <td>0</td>\n",
       "      <td>0</td>\n",
       "      <td>0</td>\n",
       "      <td>0</td>\n",
       "    </tr>\n",
       "    <tr>\n",
       "      <th>7773</th>\n",
       "      <td>10300000</td>\n",
       "      <td>38.4</td>\n",
       "      <td>13</td>\n",
       "      <td>25</td>\n",
       "      <td>1</td>\n",
       "      <td>2017</td>\n",
       "      <td>9</td>\n",
       "      <td>0</td>\n",
       "      <td>0</td>\n",
       "      <td>0</td>\n",
       "      <td>...</td>\n",
       "      <td>0</td>\n",
       "      <td>0</td>\n",
       "      <td>0</td>\n",
       "      <td>0</td>\n",
       "      <td>0</td>\n",
       "      <td>0</td>\n",
       "      <td>0</td>\n",
       "      <td>0</td>\n",
       "      <td>0</td>\n",
       "      <td>0</td>\n",
       "    </tr>\n",
       "    <tr>\n",
       "      <th>7774</th>\n",
       "      <td>11500000</td>\n",
       "      <td>30.4</td>\n",
       "      <td>8</td>\n",
       "      <td>9</td>\n",
       "      <td>1</td>\n",
       "      <td>1972</td>\n",
       "      <td>14</td>\n",
       "      <td>0</td>\n",
       "      <td>0</td>\n",
       "      <td>0</td>\n",
       "      <td>...</td>\n",
       "      <td>0</td>\n",
       "      <td>0</td>\n",
       "      <td>0</td>\n",
       "      <td>0</td>\n",
       "      <td>0</td>\n",
       "      <td>0</td>\n",
       "      <td>0</td>\n",
       "      <td>0</td>\n",
       "      <td>0</td>\n",
       "      <td>0</td>\n",
       "    </tr>\n",
       "    <tr>\n",
       "      <th>7776</th>\n",
       "      <td>9530456</td>\n",
       "      <td>39.9</td>\n",
       "      <td>5</td>\n",
       "      <td>26</td>\n",
       "      <td>1</td>\n",
       "      <td>2022</td>\n",
       "      <td>14</td>\n",
       "      <td>0</td>\n",
       "      <td>0</td>\n",
       "      <td>0</td>\n",
       "      <td>...</td>\n",
       "      <td>0</td>\n",
       "      <td>0</td>\n",
       "      <td>0</td>\n",
       "      <td>0</td>\n",
       "      <td>0</td>\n",
       "      <td>0</td>\n",
       "      <td>0</td>\n",
       "      <td>0</td>\n",
       "      <td>0</td>\n",
       "      <td>0</td>\n",
       "    </tr>\n",
       "    <tr>\n",
       "      <th>7777</th>\n",
       "      <td>11200000</td>\n",
       "      <td>54.0</td>\n",
       "      <td>11</td>\n",
       "      <td>17</td>\n",
       "      <td>2</td>\n",
       "      <td>2010</td>\n",
       "      <td>9</td>\n",
       "      <td>0</td>\n",
       "      <td>0</td>\n",
       "      <td>0</td>\n",
       "      <td>...</td>\n",
       "      <td>0</td>\n",
       "      <td>0</td>\n",
       "      <td>0</td>\n",
       "      <td>0</td>\n",
       "      <td>0</td>\n",
       "      <td>0</td>\n",
       "      <td>0</td>\n",
       "      <td>0</td>\n",
       "      <td>0</td>\n",
       "      <td>0</td>\n",
       "    </tr>\n",
       "  </tbody>\n",
       "</table>\n",
       "<p>7156 rows × 172 columns</p>\n",
       "</div>"
      ],
      "text/plain": [
       "         Price  Square  Floor  Floors  Rooms  Year  Time to metro  \\\n",
       "0     11000000    37.0      5      19      1  2017             18   \n",
       "1      8990000    31.9     24      25      0  2017              7   \n",
       "2     10700000    28.0     11      23      0  2021              2   \n",
       "3     12550181    41.9     11      16      2  2024              9   \n",
       "4      4985475    14.1      7      16      0  2026             23   \n",
       "...        ...     ...    ...     ...    ...   ...            ...   \n",
       "7772   9530456    39.9     17      26      1  2022             14   \n",
       "7773  10300000    38.4     13      25      1  2017              9   \n",
       "7774  11500000    30.4      8       9      1  1972             14   \n",
       "7776   9530456    39.9      5      26      1  2022             14   \n",
       "7777  11200000    54.0     11      17      2  2010              9   \n",
       "\n",
       "      Is Apartment?_True  Okrug_ЗАО  Okrug_ЗелАО  ...  \\\n",
       "0                      0          0            0  ...   \n",
       "1                      1          0            0  ...   \n",
       "2                      1          0            0  ...   \n",
       "3                      0          0            0  ...   \n",
       "4                      1          0            0  ...   \n",
       "...                  ...        ...          ...  ...   \n",
       "7772                   0          0            0  ...   \n",
       "7773                   0          0            0  ...   \n",
       "7774                   0          0            0  ...   \n",
       "7776                   0          0            0  ...   \n",
       "7777                   0          0            0  ...   \n",
       "\n",
       "      District_р-н Чертаново Южное  District_р-н Щукино  \\\n",
       "0                                0                    0   \n",
       "1                                0                    0   \n",
       "2                                0                    0   \n",
       "3                                0                    0   \n",
       "4                                0                    0   \n",
       "...                            ...                  ...   \n",
       "7772                             0                    0   \n",
       "7773                             0                    0   \n",
       "7774                             0                    0   \n",
       "7776                             0                    0   \n",
       "7777                             0                    0   \n",
       "\n",
       "      District_р-н Южное Бутово  District_р-н Южное Медведково  \\\n",
       "0                             0                              0   \n",
       "1                             0                              0   \n",
       "2                             0                              0   \n",
       "3                             0                              0   \n",
       "4                             0                              0   \n",
       "...                         ...                            ...   \n",
       "7772                          0                              0   \n",
       "7773                          0                              0   \n",
       "7774                          0                              0   \n",
       "7776                          0                              0   \n",
       "7777                          0                              0   \n",
       "\n",
       "      District_р-н Южное Тушино  District_р-н Южнопортовый  \\\n",
       "0                             0                          0   \n",
       "1                             0                          0   \n",
       "2                             0                          0   \n",
       "3                             0                          0   \n",
       "4                             0                          0   \n",
       "...                         ...                        ...   \n",
       "7772                          0                          0   \n",
       "7773                          0                          0   \n",
       "7774                          0                          0   \n",
       "7776                          0                          0   \n",
       "7777                          0                          0   \n",
       "\n",
       "      District_р-н Якиманка  District_р-н Ярославский  District_р-н Ясенево  \\\n",
       "0                         0                         0                     0   \n",
       "1                         0                         0                     0   \n",
       "2                         0                         0                     0   \n",
       "3                         0                         0                     0   \n",
       "4                         0                         0                     0   \n",
       "...                     ...                       ...                   ...   \n",
       "7772                      0                         0                     0   \n",
       "7773                      0                         0                     0   \n",
       "7774                      0                         0                     0   \n",
       "7776                      0                         0                     0   \n",
       "7777                      0                         0                     0   \n",
       "\n",
       "      District_ул. Усадебный Парк  \n",
       "0                               0  \n",
       "1                               0  \n",
       "2                               0  \n",
       "3                               0  \n",
       "4                               0  \n",
       "...                           ...  \n",
       "7772                            0  \n",
       "7773                            0  \n",
       "7774                            0  \n",
       "7776                            0  \n",
       "7777                            0  \n",
       "\n",
       "[7156 rows x 172 columns]"
      ]
     },
     "execution_count": 36,
     "metadata": {},
     "output_type": "execute_result"
    }
   ],
   "source": [
    "var_real = ['Floor', 'Floors', 'Rooms', 'Price', 'Square', 'Time to metro', 'Year']\n",
    "var_cat = ['Is Apartment?', 'Okrug', 'District']\n",
    "df_ohe = pd.get_dummies(df_new, columns = var_cat, drop_first = True)\n",
    "df_ohe"
   ]
  },
  {
   "cell_type": "markdown",
   "id": "4be6ff53",
   "metadata": {},
   "source": [
    "На этом этапе разделим выборку на трейн и тест с 80% разделением:"
   ]
  },
  {
   "cell_type": "code",
   "execution_count": 37,
   "id": "2497c0fc",
   "metadata": {},
   "outputs": [],
   "source": [
    "train_df, test_df = train_test_split(df_ohe, test_size=0.2)"
   ]
  },
  {
   "cell_type": "code",
   "execution_count": 38,
   "id": "603a12a2",
   "metadata": {},
   "outputs": [],
   "source": [
    "X_train = train_df.drop(columns=['Price'])\n",
    "y_train = train_df['Price']\n",
    "\n",
    "X_test = test_df.drop(columns=['Price'])\n",
    "y_test = test_df['Price']"
   ]
  },
  {
   "cell_type": "markdown",
   "id": "0b607ad1",
   "metadata": {},
   "source": [
    "Далее нормализуем переменные через минмакс скеллер"
   ]
  },
  {
   "cell_type": "code",
   "execution_count": 39,
   "id": "aff9bd0e",
   "metadata": {},
   "outputs": [],
   "source": [
    "columns = X_train.columns\n",
    "scaler = MinMaxScaler()\n",
    "X_train_scaled = pd.DataFrame(scaler.fit_transform(X_train), columns=columns, index=X_train.index)\n",
    "X_test_scaled = pd.DataFrame(scaler.fit_transform(X_test), columns=columns, index=X_test.index)"
   ]
  },
  {
   "cell_type": "code",
   "execution_count": 40,
   "id": "ec9256b1",
   "metadata": {},
   "outputs": [
    {
     "data": {
      "text/html": [
       "<div>\n",
       "<style scoped>\n",
       "    .dataframe tbody tr th:only-of-type {\n",
       "        vertical-align: middle;\n",
       "    }\n",
       "\n",
       "    .dataframe tbody tr th {\n",
       "        vertical-align: top;\n",
       "    }\n",
       "\n",
       "    .dataframe thead th {\n",
       "        text-align: right;\n",
       "    }\n",
       "</style>\n",
       "<table border=\"1\" class=\"dataframe\">\n",
       "  <thead>\n",
       "    <tr style=\"text-align: right;\">\n",
       "      <th></th>\n",
       "      <th>Square</th>\n",
       "      <th>Floor</th>\n",
       "      <th>Floors</th>\n",
       "      <th>Rooms</th>\n",
       "      <th>Year</th>\n",
       "      <th>Time to metro</th>\n",
       "      <th>Is Apartment?_True</th>\n",
       "      <th>Okrug_ЗАО</th>\n",
       "      <th>Okrug_ЗелАО</th>\n",
       "      <th>Okrug_НАО (Новомосковский)</th>\n",
       "      <th>...</th>\n",
       "      <th>District_р-н Чертаново Южное</th>\n",
       "      <th>District_р-н Щукино</th>\n",
       "      <th>District_р-н Южное Бутово</th>\n",
       "      <th>District_р-н Южное Медведково</th>\n",
       "      <th>District_р-н Южное Тушино</th>\n",
       "      <th>District_р-н Южнопортовый</th>\n",
       "      <th>District_р-н Якиманка</th>\n",
       "      <th>District_р-н Ярославский</th>\n",
       "      <th>District_р-н Ясенево</th>\n",
       "      <th>District_ул. Усадебный Парк</th>\n",
       "    </tr>\n",
       "  </thead>\n",
       "  <tbody>\n",
       "    <tr>\n",
       "      <th>519</th>\n",
       "      <td>0.023120</td>\n",
       "      <td>0.044118</td>\n",
       "      <td>0.093023</td>\n",
       "      <td>0.0</td>\n",
       "      <td>0.947368</td>\n",
       "      <td>0.134831</td>\n",
       "      <td>1.0</td>\n",
       "      <td>0.0</td>\n",
       "      <td>0.0</td>\n",
       "      <td>1.0</td>\n",
       "      <td>...</td>\n",
       "      <td>0.0</td>\n",
       "      <td>0.0</td>\n",
       "      <td>0.0</td>\n",
       "      <td>0.0</td>\n",
       "      <td>0.0</td>\n",
       "      <td>0.0</td>\n",
       "      <td>0.0</td>\n",
       "      <td>0.0</td>\n",
       "      <td>0.0</td>\n",
       "      <td>0.0</td>\n",
       "    </tr>\n",
       "    <tr>\n",
       "      <th>6466</th>\n",
       "      <td>0.032991</td>\n",
       "      <td>0.176471</td>\n",
       "      <td>0.174419</td>\n",
       "      <td>0.2</td>\n",
       "      <td>0.750000</td>\n",
       "      <td>0.033708</td>\n",
       "      <td>0.0</td>\n",
       "      <td>0.0</td>\n",
       "      <td>0.0</td>\n",
       "      <td>0.0</td>\n",
       "      <td>...</td>\n",
       "      <td>0.0</td>\n",
       "      <td>0.0</td>\n",
       "      <td>0.0</td>\n",
       "      <td>0.0</td>\n",
       "      <td>0.0</td>\n",
       "      <td>0.0</td>\n",
       "      <td>0.0</td>\n",
       "      <td>0.0</td>\n",
       "      <td>0.0</td>\n",
       "      <td>0.0</td>\n",
       "    </tr>\n",
       "    <tr>\n",
       "      <th>7104</th>\n",
       "      <td>0.062606</td>\n",
       "      <td>0.000000</td>\n",
       "      <td>0.046512</td>\n",
       "      <td>0.4</td>\n",
       "      <td>0.532895</td>\n",
       "      <td>0.022472</td>\n",
       "      <td>0.0</td>\n",
       "      <td>0.0</td>\n",
       "      <td>0.0</td>\n",
       "      <td>0.0</td>\n",
       "      <td>...</td>\n",
       "      <td>0.0</td>\n",
       "      <td>0.0</td>\n",
       "      <td>0.0</td>\n",
       "      <td>0.0</td>\n",
       "      <td>0.0</td>\n",
       "      <td>0.0</td>\n",
       "      <td>0.0</td>\n",
       "      <td>0.0</td>\n",
       "      <td>0.0</td>\n",
       "      <td>0.0</td>\n",
       "    </tr>\n",
       "    <tr>\n",
       "      <th>3493</th>\n",
       "      <td>0.044032</td>\n",
       "      <td>0.044118</td>\n",
       "      <td>0.151163</td>\n",
       "      <td>0.4</td>\n",
       "      <td>0.953947</td>\n",
       "      <td>0.044944</td>\n",
       "      <td>0.0</td>\n",
       "      <td>1.0</td>\n",
       "      <td>0.0</td>\n",
       "      <td>0.0</td>\n",
       "      <td>...</td>\n",
       "      <td>0.0</td>\n",
       "      <td>0.0</td>\n",
       "      <td>0.0</td>\n",
       "      <td>0.0</td>\n",
       "      <td>0.0</td>\n",
       "      <td>0.0</td>\n",
       "      <td>0.0</td>\n",
       "      <td>0.0</td>\n",
       "      <td>0.0</td>\n",
       "      <td>0.0</td>\n",
       "    </tr>\n",
       "    <tr>\n",
       "      <th>3883</th>\n",
       "      <td>0.124951</td>\n",
       "      <td>0.411765</td>\n",
       "      <td>0.860465</td>\n",
       "      <td>0.4</td>\n",
       "      <td>0.881579</td>\n",
       "      <td>0.011236</td>\n",
       "      <td>1.0</td>\n",
       "      <td>0.0</td>\n",
       "      <td>0.0</td>\n",
       "      <td>0.0</td>\n",
       "      <td>...</td>\n",
       "      <td>0.0</td>\n",
       "      <td>0.0</td>\n",
       "      <td>0.0</td>\n",
       "      <td>0.0</td>\n",
       "      <td>0.0</td>\n",
       "      <td>0.0</td>\n",
       "      <td>0.0</td>\n",
       "      <td>0.0</td>\n",
       "      <td>0.0</td>\n",
       "      <td>0.0</td>\n",
       "    </tr>\n",
       "    <tr>\n",
       "      <th>...</th>\n",
       "      <td>...</td>\n",
       "      <td>...</td>\n",
       "      <td>...</td>\n",
       "      <td>...</td>\n",
       "      <td>...</td>\n",
       "      <td>...</td>\n",
       "      <td>...</td>\n",
       "      <td>...</td>\n",
       "      <td>...</td>\n",
       "      <td>...</td>\n",
       "      <td>...</td>\n",
       "      <td>...</td>\n",
       "      <td>...</td>\n",
       "      <td>...</td>\n",
       "      <td>...</td>\n",
       "      <td>...</td>\n",
       "      <td>...</td>\n",
       "      <td>...</td>\n",
       "      <td>...</td>\n",
       "      <td>...</td>\n",
       "      <td>...</td>\n",
       "    </tr>\n",
       "    <tr>\n",
       "      <th>7415</th>\n",
       "      <td>0.048188</td>\n",
       "      <td>0.161765</td>\n",
       "      <td>0.209302</td>\n",
       "      <td>0.4</td>\n",
       "      <td>0.953947</td>\n",
       "      <td>0.089888</td>\n",
       "      <td>0.0</td>\n",
       "      <td>0.0</td>\n",
       "      <td>0.0</td>\n",
       "      <td>0.0</td>\n",
       "      <td>...</td>\n",
       "      <td>0.0</td>\n",
       "      <td>0.0</td>\n",
       "      <td>0.0</td>\n",
       "      <td>0.0</td>\n",
       "      <td>0.0</td>\n",
       "      <td>0.0</td>\n",
       "      <td>0.0</td>\n",
       "      <td>0.0</td>\n",
       "      <td>0.0</td>\n",
       "      <td>0.0</td>\n",
       "    </tr>\n",
       "    <tr>\n",
       "      <th>7013</th>\n",
       "      <td>0.126029</td>\n",
       "      <td>0.073529</td>\n",
       "      <td>0.209302</td>\n",
       "      <td>0.6</td>\n",
       "      <td>0.973684</td>\n",
       "      <td>0.044944</td>\n",
       "      <td>0.0</td>\n",
       "      <td>0.0</td>\n",
       "      <td>0.0</td>\n",
       "      <td>0.0</td>\n",
       "      <td>...</td>\n",
       "      <td>0.0</td>\n",
       "      <td>0.0</td>\n",
       "      <td>0.0</td>\n",
       "      <td>0.0</td>\n",
       "      <td>0.0</td>\n",
       "      <td>0.0</td>\n",
       "      <td>0.0</td>\n",
       "      <td>0.0</td>\n",
       "      <td>0.0</td>\n",
       "      <td>0.0</td>\n",
       "    </tr>\n",
       "    <tr>\n",
       "      <th>4777</th>\n",
       "      <td>0.037537</td>\n",
       "      <td>0.029412</td>\n",
       "      <td>0.127907</td>\n",
       "      <td>0.4</td>\n",
       "      <td>0.592105</td>\n",
       "      <td>0.067416</td>\n",
       "      <td>0.0</td>\n",
       "      <td>0.0</td>\n",
       "      <td>0.0</td>\n",
       "      <td>0.0</td>\n",
       "      <td>...</td>\n",
       "      <td>0.0</td>\n",
       "      <td>0.0</td>\n",
       "      <td>0.0</td>\n",
       "      <td>0.0</td>\n",
       "      <td>0.0</td>\n",
       "      <td>0.0</td>\n",
       "      <td>0.0</td>\n",
       "      <td>0.0</td>\n",
       "      <td>0.0</td>\n",
       "      <td>0.0</td>\n",
       "    </tr>\n",
       "    <tr>\n",
       "      <th>7474</th>\n",
       "      <td>0.070009</td>\n",
       "      <td>0.044118</td>\n",
       "      <td>0.186047</td>\n",
       "      <td>0.4</td>\n",
       "      <td>0.907895</td>\n",
       "      <td>0.033708</td>\n",
       "      <td>0.0</td>\n",
       "      <td>0.0</td>\n",
       "      <td>0.0</td>\n",
       "      <td>0.0</td>\n",
       "      <td>...</td>\n",
       "      <td>0.0</td>\n",
       "      <td>0.0</td>\n",
       "      <td>0.0</td>\n",
       "      <td>0.0</td>\n",
       "      <td>0.0</td>\n",
       "      <td>0.0</td>\n",
       "      <td>0.0</td>\n",
       "      <td>0.0</td>\n",
       "      <td>0.0</td>\n",
       "      <td>0.0</td>\n",
       "    </tr>\n",
       "    <tr>\n",
       "      <th>2533</th>\n",
       "      <td>0.028315</td>\n",
       "      <td>0.029412</td>\n",
       "      <td>0.534884</td>\n",
       "      <td>0.0</td>\n",
       "      <td>0.934211</td>\n",
       "      <td>0.123596</td>\n",
       "      <td>1.0</td>\n",
       "      <td>0.0</td>\n",
       "      <td>0.0</td>\n",
       "      <td>0.0</td>\n",
       "      <td>...</td>\n",
       "      <td>0.0</td>\n",
       "      <td>0.0</td>\n",
       "      <td>0.0</td>\n",
       "      <td>0.0</td>\n",
       "      <td>0.0</td>\n",
       "      <td>0.0</td>\n",
       "      <td>0.0</td>\n",
       "      <td>0.0</td>\n",
       "      <td>0.0</td>\n",
       "      <td>0.0</td>\n",
       "    </tr>\n",
       "  </tbody>\n",
       "</table>\n",
       "<p>5724 rows × 171 columns</p>\n",
       "</div>"
      ],
      "text/plain": [
       "        Square     Floor    Floors  Rooms      Year  Time to metro  \\\n",
       "519   0.023120  0.044118  0.093023    0.0  0.947368       0.134831   \n",
       "6466  0.032991  0.176471  0.174419    0.2  0.750000       0.033708   \n",
       "7104  0.062606  0.000000  0.046512    0.4  0.532895       0.022472   \n",
       "3493  0.044032  0.044118  0.151163    0.4  0.953947       0.044944   \n",
       "3883  0.124951  0.411765  0.860465    0.4  0.881579       0.011236   \n",
       "...        ...       ...       ...    ...       ...            ...   \n",
       "7415  0.048188  0.161765  0.209302    0.4  0.953947       0.089888   \n",
       "7013  0.126029  0.073529  0.209302    0.6  0.973684       0.044944   \n",
       "4777  0.037537  0.029412  0.127907    0.4  0.592105       0.067416   \n",
       "7474  0.070009  0.044118  0.186047    0.4  0.907895       0.033708   \n",
       "2533  0.028315  0.029412  0.534884    0.0  0.934211       0.123596   \n",
       "\n",
       "      Is Apartment?_True  Okrug_ЗАО  Okrug_ЗелАО  Okrug_НАО (Новомосковский)  \\\n",
       "519                  1.0        0.0          0.0                         1.0   \n",
       "6466                 0.0        0.0          0.0                         0.0   \n",
       "7104                 0.0        0.0          0.0                         0.0   \n",
       "3493                 0.0        1.0          0.0                         0.0   \n",
       "3883                 1.0        0.0          0.0                         0.0   \n",
       "...                  ...        ...          ...                         ...   \n",
       "7415                 0.0        0.0          0.0                         0.0   \n",
       "7013                 0.0        0.0          0.0                         0.0   \n",
       "4777                 0.0        0.0          0.0                         0.0   \n",
       "7474                 0.0        0.0          0.0                         0.0   \n",
       "2533                 1.0        0.0          0.0                         0.0   \n",
       "\n",
       "      ...  District_р-н Чертаново Южное  District_р-н Щукино  \\\n",
       "519   ...                           0.0                  0.0   \n",
       "6466  ...                           0.0                  0.0   \n",
       "7104  ...                           0.0                  0.0   \n",
       "3493  ...                           0.0                  0.0   \n",
       "3883  ...                           0.0                  0.0   \n",
       "...   ...                           ...                  ...   \n",
       "7415  ...                           0.0                  0.0   \n",
       "7013  ...                           0.0                  0.0   \n",
       "4777  ...                           0.0                  0.0   \n",
       "7474  ...                           0.0                  0.0   \n",
       "2533  ...                           0.0                  0.0   \n",
       "\n",
       "      District_р-н Южное Бутово  District_р-н Южное Медведково  \\\n",
       "519                         0.0                            0.0   \n",
       "6466                        0.0                            0.0   \n",
       "7104                        0.0                            0.0   \n",
       "3493                        0.0                            0.0   \n",
       "3883                        0.0                            0.0   \n",
       "...                         ...                            ...   \n",
       "7415                        0.0                            0.0   \n",
       "7013                        0.0                            0.0   \n",
       "4777                        0.0                            0.0   \n",
       "7474                        0.0                            0.0   \n",
       "2533                        0.0                            0.0   \n",
       "\n",
       "      District_р-н Южное Тушино  District_р-н Южнопортовый  \\\n",
       "519                         0.0                        0.0   \n",
       "6466                        0.0                        0.0   \n",
       "7104                        0.0                        0.0   \n",
       "3493                        0.0                        0.0   \n",
       "3883                        0.0                        0.0   \n",
       "...                         ...                        ...   \n",
       "7415                        0.0                        0.0   \n",
       "7013                        0.0                        0.0   \n",
       "4777                        0.0                        0.0   \n",
       "7474                        0.0                        0.0   \n",
       "2533                        0.0                        0.0   \n",
       "\n",
       "      District_р-н Якиманка  District_р-н Ярославский  District_р-н Ясенево  \\\n",
       "519                     0.0                       0.0                   0.0   \n",
       "6466                    0.0                       0.0                   0.0   \n",
       "7104                    0.0                       0.0                   0.0   \n",
       "3493                    0.0                       0.0                   0.0   \n",
       "3883                    0.0                       0.0                   0.0   \n",
       "...                     ...                       ...                   ...   \n",
       "7415                    0.0                       0.0                   0.0   \n",
       "7013                    0.0                       0.0                   0.0   \n",
       "4777                    0.0                       0.0                   0.0   \n",
       "7474                    0.0                       0.0                   0.0   \n",
       "2533                    0.0                       0.0                   0.0   \n",
       "\n",
       "      District_ул. Усадебный Парк  \n",
       "519                           0.0  \n",
       "6466                          0.0  \n",
       "7104                          0.0  \n",
       "3493                          0.0  \n",
       "3883                          0.0  \n",
       "...                           ...  \n",
       "7415                          0.0  \n",
       "7013                          0.0  \n",
       "4777                          0.0  \n",
       "7474                          0.0  \n",
       "2533                          0.0  \n",
       "\n",
       "[5724 rows x 171 columns]"
      ]
     },
     "execution_count": 40,
     "metadata": {},
     "output_type": "execute_result"
    }
   ],
   "source": [
    "X_train_scaled"
   ]
  },
  {
   "cell_type": "markdown",
   "id": "0373b03b",
   "metadata": {},
   "source": [
    "Попробуем для начала обучить линейную регрессию"
   ]
  },
  {
   "cell_type": "code",
   "execution_count": 41,
   "id": "081a699c",
   "metadata": {},
   "outputs": [
    {
     "data": {
      "text/plain": [
       "LinearRegression()"
      ]
     },
     "execution_count": 41,
     "metadata": {},
     "output_type": "execute_result"
    }
   ],
   "source": [
    "model = LinearRegression()\n",
    "model.fit(X_train_scaled, y_train)"
   ]
  },
  {
   "cell_type": "code",
   "execution_count": 42,
   "id": "a63b1531",
   "metadata": {},
   "outputs": [
    {
     "data": {
      "text/plain": [
       "2011314036.112129"
      ]
     },
     "execution_count": 42,
     "metadata": {},
     "output_type": "execute_result"
    }
   ],
   "source": [
    "y_pred = model.predict(X_test_scaled)\n",
    "mape = mean_absolute_percentage_error(y_test, y_pred)\n",
    "mape"
   ]
  },
  {
   "cell_type": "markdown",
   "id": "0426d0a0",
   "metadata": {},
   "source": [
    "Получаем какой-то бред, мапе прыгает то в 5млн (как вообще мапе может быть больше 1), то в 1.2, пробовали отключить совсем категориальные переменные, либо отключить нормализацию, либо нормализовывать через стандартскеллер, ничего не помогло, мапе отдыхает"
   ]
  },
  {
   "cell_type": "markdown",
   "id": "16df9a94",
   "metadata": {},
   "source": [
    "Попробуем обучить Ridge регрессию, возможно переобучаемся"
   ]
  },
  {
   "cell_type": "code",
   "execution_count": 43,
   "id": "61d01cb7",
   "metadata": {
    "scrolled": false
   },
   "outputs": [
    {
     "name": "stdout",
     "output_type": "stream",
     "text": [
      "Best alpha = 0.3793\n"
     ]
    },
    {
     "data": {
      "image/png": "[encoded data removed]",
      "text/plain": [
       "<Figure size 360x288 with 1 Axes>"
      ]
     },
     "metadata": {
      "needs_background": "light"
     },
     "output_type": "display_data"
    }
   ],
   "source": [
    "alphas = np.logspace(-2, 3, 20)\n",
    "searcher = GridSearchCV(\n",
    "    Ridge(), [{\"alpha\": alphas}], \n",
    "    scoring=\"neg_root_mean_squared_error\", cv=10\n",
    ")\n",
    "searcher.fit(X_train_scaled, y_train)\n",
    "\n",
    "best_alpha = searcher.best_params_[\"alpha\"]\n",
    "print(\"Best alpha = %.4f\" % best_alpha)\n",
    "\n",
    "plt.figure(figsize=(5,4))\n",
    "plt.plot(alphas, -searcher.cv_results_[\"mean_test_score\"])\n",
    "plt.xscale(\"log\")\n",
    "plt.xlabel(\"alpha\")\n",
    "plt.ylabel(\"CV score\");"
   ]
  },
  {
   "cell_type": "markdown",
   "id": "6c7fcf87",
   "metadata": {},
   "source": [
    "Получаем еще и никакую альфу("
   ]
  },
  {
   "cell_type": "markdown",
   "id": "5b196dea",
   "metadata": {},
   "source": [
    "__Вывод:__ сильная модель, уверенная"
   ]
  }
 ],
 "metadata": {
  "kernelspec": {
   "display_name": "Python 3 (ipykernel)",
   "language": "python",
   "name": "python3"
  },
  "language_info": {
   "codemirror_mode": {
    "name": "ipython",
    "version": 3
   },
   "file_extension": ".py",
   "mimetype": "text/x-python",
   "name": "python",
   "nbconvert_exporter": "python",
   "pygments_lexer": "ipython3",
   "version": "3.9.12"
  }
 },
 "nbformat": 4,
 "nbformat_minor": 5
}
